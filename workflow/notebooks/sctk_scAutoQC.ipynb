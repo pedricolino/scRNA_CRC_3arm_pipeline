{
 "cells": [
  {
   "cell_type": "markdown",
   "metadata": {},
   "source": [
    "# scAutoQC"
   ]
  },
  {
   "cell_type": "code",
   "execution_count": null,
   "metadata": {},
   "outputs": [],
   "source": [
    "import scanpy as sc\n",
    "import sctk\n",
    "\n",
    "sc.settings.set_figure_params(dpi=80)"
   ]
  },
  {
   "cell_type": "code",
   "execution_count": null,
   "metadata": {
    "tags": [
     "parameters"
    ]
   },
   "outputs": [],
   "source": [
    "# this cell is tagged 'parameters' to use papermill\n",
    "input_file = '/data/cephfs-1/home/users/cemo10_c/work/scRNA/scRNA_preprocessing_pipeline/results/per_sample/CE_SC_5FU_Conti_5/adata.h5ad'\n",
    "count_layer = \"soupX_counts\"\n",
    "output_file = \"results/per_sample/CE_SC_5FU_Conti_2/adata_ready_for_merge_soupX_counts_scAutoQC.h5ad\"\n",
    "qc_method = \"theislab_tutorial_then_scAutoQC\""
   ]
  },
  {
   "cell_type": "code",
   "execution_count": null,
   "metadata": {},
   "outputs": [],
   "source": [
    "adata = sc.read_h5ad(input_file)\n",
    "adata.X = adata.layers[count_layer].copy()\n",
    "adata.var_names_make_unique()\n",
    "adata"
   ]
  },
  {
   "cell_type": "code",
   "execution_count": null,
   "metadata": {},
   "outputs": [],
   "source": [
    "if qc_method == 'theislab_tutorial_then_scAutoQC':\n",
    "    print(f\"Total number of cells: {adata.n_obs}\")\n",
    "    adata = adata[(~adata.obs.outlier) & (~adata.obs.mt_outlier)].copy()\n",
    "    print(f\"Number of cells after filtering of low quality cells: {adata.n_obs}\")"
   ]
  },
  {
   "cell_type": "code",
   "execution_count": null,
   "metadata": {},
   "outputs": [],
   "source": [
    "sctk.calculate_qc(adata)\n",
    "adata"
   ]
  },
  {
   "cell_type": "code",
   "execution_count": null,
   "metadata": {},
   "outputs": [],
   "source": [
    "sctk.default_metric_params_df"
   ]
  },
  {
   "cell_type": "code",
   "execution_count": null,
   "metadata": {},
   "outputs": [],
   "source": [
    "metrics = sctk.default_metric_params_df.loc[[\n",
    "    \"n_counts\",\n",
    "    \"n_genes\",\n",
    "    \"percent_mito\",\n",
    "    \"percent_ribo\",\n",
    "    \"percent_hb\"], :]\n",
    "\n",
    "# add new column\n",
    "import pandas as pd\n",
    "metrics.loc['scDblFinder_score'] = [pd.NA, 1, 'linear', 'max_only', 0]\n",
    "metrics"
   ]
  },
  {
   "cell_type": "code",
   "execution_count": null,
   "metadata": {},
   "outputs": [],
   "source": [
    "sctk.cellwise_qc(adata, metrics=metrics)\n",
    "adata"
   ]
  },
  {
   "cell_type": "code",
   "execution_count": null,
   "metadata": {},
   "outputs": [],
   "source": [
    "adata.obs['cell_passed_qc'].sum()"
   ]
  },
  {
   "cell_type": "code",
   "execution_count": null,
   "metadata": {},
   "outputs": [],
   "source": [
    "adata.uns['scautoqc_ranges']"
   ]
  },
  {
   "cell_type": "code",
   "execution_count": null,
   "metadata": {},
   "outputs": [],
   "source": [
    "#present as columns in obs of the object\n",
    "metrics_list = [\"log1p_n_counts\", \"log1p_n_genes\", \"percent_mito\", 'percent_hb', \"percent_ribo\", \"scDblFinder_score\", \"percent_top50\"]\n",
    "sctk.generate_qc_clusters(adata, metrics = metrics_list)\n",
    "sc.pl.embedding(adata, \"X_umap_qc\", color=metrics_list, color_map=\"OrRd\")"
   ]
  },
  {
   "cell_type": "code",
   "execution_count": null,
   "metadata": {},
   "outputs": [],
   "source": [
    "sctk.clusterwise_qc(adata)\n",
    "sc.pl.embedding(adata, \"X_umap_qc\", color=[\"cell_passed_qc\", \"cluster_passed_qc\"])"
   ]
  },
  {
   "cell_type": "code",
   "execution_count": null,
   "metadata": {},
   "outputs": [],
   "source": [
    "sctk.multi_resolution_cluster_qc(adata, metrics = metrics_list)\n",
    "sc.pl.embedding(adata, \"X_umap_qc\", color=[\"cell_passed_qc\",\n",
    "                                           \"cluster_passed_qc\",\n",
    "                                           \"consensus_fraction\",\n",
    "                                           \"consensus_passed_qc\"])"
   ]
  },
  {
   "cell_type": "code",
   "execution_count": null,
   "metadata": {},
   "outputs": [],
   "source": [
    "import seaborn as sns\n",
    "p1 = sns.displot(adata.obs[\"n_counts\"], bins=100, kde=False)\n",
    "# sc.pl.violin(adata, 'total_counts')\n",
    "p2 = sc.pl.violin(adata, \"percent_mito\")\n",
    "p3 = sc.pl.scatter(adata, \"n_counts\", \"n_genes\", color=\"percent_mito\")"
   ]
  },
  {
   "cell_type": "code",
   "execution_count": null,
   "metadata": {},
   "outputs": [],
   "source": [
    "# filter out cells that did not pass qc\n",
    "adata = adata[adata.obs['cell_passed_qc'], :]"
   ]
  },
  {
   "cell_type": "code",
   "execution_count": null,
   "metadata": {},
   "outputs": [],
   "source": [
    "import seaborn as sns\n",
    "p1 = sns.displot(adata.obs[\"n_counts\"], bins=100, kde=False)\n",
    "# sc.pl.violin(adata, 'total_counts')\n",
    "p2 = sc.pl.violin(adata, \"percent_mito\")\n",
    "p3 = sc.pl.scatter(adata, \"n_counts\", \"n_genes\", color=\"percent_mito\")"
   ]
  },
  {
   "cell_type": "markdown",
   "metadata": {},
   "source": [
    "# Normalization (per sample, required later)"
   ]
  },
  {
   "cell_type": "code",
   "execution_count": null,
   "metadata": {},
   "outputs": [],
   "source": [
    "scales_counts = sc.pp.normalize_total(adata, target_sum=None, inplace=False)\n",
    "# log1p transform\n",
    "# name for new layer\n",
    "layer_name = \"log1p_norm\" + \"_of_\" + count_layer\n",
    "adata.layers[layer_name] = sc.pp.log1p(scales_counts[\"X\"], copy=True)"
   ]
  },
  {
   "cell_type": "code",
   "execution_count": null,
   "metadata": {},
   "outputs": [],
   "source": [
    "adata.uns['scautoqc_ranges'] = adata.uns['scautoqc_ranges'].to_dict()\n",
    "adata.write(output_file)"
   ]
  },
  {
   "cell_type": "code",
   "execution_count": null,
   "metadata": {},
   "outputs": [],
   "source": [
    "import matplotlib.pyplot as plt\n",
    "fig, axes = plt.subplots(1, 2, figsize=(10, 5))\n",
    "p1 = sns.histplot(adata.obs[\"total_counts\"], bins=100, kde=False, ax=axes[0])\n",
    "axes[0].set_title(\"Total counts\")\n",
    "p2 = sns.histplot(adata.layers[layer_name].sum(1), bins=100, kde=False, ax=axes[1])\n",
    "axes[1].set_title(\"Shifted logarithm\")\n",
    "plt.show()"
   ]
  },
  {
   "cell_type": "code",
   "execution_count": null,
   "metadata": {},
   "outputs": [],
   "source": [
    "# are the counts still integers? (They should be)\n",
    "print(adata.X[0:5, 0:5].todense())\n",
    "print(adata.layers['counts'][0:5, 0:5].todense())\n",
    "adata.raw[0:5, 0:5]"
   ]
  }
 ],
 "metadata": {
  "kernelspec": {
   "display_name": "sctk",
   "language": "python",
   "name": "python3"
  },
  "language_info": {
   "codemirror_mode": {
    "name": "ipython",
    "version": 3
   },
   "file_extension": ".py",
   "mimetype": "text/x-python",
   "name": "python",
   "nbconvert_exporter": "python",
   "pygments_lexer": "ipython3",
   "version": "3.9.21"
  }
 },
 "nbformat": 4,
 "nbformat_minor": 2
}
