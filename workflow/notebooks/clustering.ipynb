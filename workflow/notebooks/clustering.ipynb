{
 "cells": [
  {
   "cell_type": "markdown",
   "id": "cdfeeaf0-cf82-40ba-bf84-b82620fb700f",
   "metadata": {},
   "source": [
    "(cellular-structure:clustering)=\n",
    "# Clustering"
   ]
  },
  {
   "cell_type": "markdown",
   "id": "974344a0",
   "metadata": {},
   "source": [
    "## Motivation"
   ]
  },
  {
   "cell_type": "markdown",
   "id": "99163c2d",
   "metadata": {},
   "source": [
    "Preprocessing and visualization enabled us to describe our scRNA-seq dataset and reduce its dimensionality. Up to this point, we embedded and visualized cells to understand the underlying properties of our dataset. However, they are still rather abstractly defined. The next natural step in single-cell analysis is the identification of cellular structure in the dataset. \n",
    "\n",
    "In scRNA-seq data analysis, we describe cellular structure in our dataset with finding cell identities that relate to known cell states or cell cycle stages. This process is usually called cell identity annotation. For this purpose, we structure cells into clusters to infer the identity of similar cells. Clustering itself is a common unsupervised machine learning problem. \n",
    "We can derive clusters by minimizing the intra-cluster distance in the reduced expression space. In this case, the expression space determines the gene expression similarity of cells with respect to a dimensionality-reduced representation. This lower dimensional representation is, for example, determined with a principal-component analysis and the similarity scoring is then based on Euclidean distances. \n",
    "\n",
    "The KNN graph consists of nodes reflecting the cells in the dataset. We first calculate a Euclidean distance matrix on the PC-reduced expression space for all cells and then connect each cell to its K most similar cells. Usually, K is set to values between 5 and 100 depending on the size of the dataset. The KNN graph reflects the underlying topology of the expression data by representing dense regions with respect to expression space also as densely connected regions in the graph {cite}`wolf_paga_2019`. Dense regions in the KNN-graph are detected by community detection methods like Leiden and Louvain{cite}`blondel_fast_2008`. \n",
    "\n",
    "The Leiden algorithm is an improved version of the Louvain algorithm which outperformed other clustering methods for single-cell RNA-seq data analysis ({cite}`du_systematic_2018, freytag_comparison_2018, weber_comparison_2016`). Since the Louvain algorithm is no longer maintained, using Leiden instead is preferred. \n",
    "\n",
    "We, therefore, propose to use the Leiden algorithm{cite}`traag_louvain_2019` on single-cell k-nearest-neighbour (KNN) graphs to cluster single-cell datasets. \n",
    "\n",
    "Leiden creates clusters by taking into account the number of links between cells in a cluster versus the overall expected number of links in the dataset. \n",
    "\n",
    ":::{figure-md} clustering\n",
    "\n",
    "<img src=\"../_static/images/clustering/clustering.jpeg\" alt=\"Clustering Overview\" class=\"bg-primary mb-1\" width=\"800px\">\n",
    "\n",
    "The Leiden algorithm computes a clustering on a KNN graph obtained from the PC reduced expression space. It starts with an initial partition where each node forms its own community. Next, the algorithm moves single nodes from one community to another to find a partition, which is then refined. Based on a refined partition an aggregate network is generated, which is again refined until no further improvements can be obtained, and the final partition is reached. \n",
    "\n",
    ":::\n",
    "\n",
    "\n",
    "The starting point is a singleton partition in which each node functions as its own community (a). As a next step, the algorithm creates partitions by moving individual nodes from one community to another (b), which is refined afterwards to enhance the partitioning (c). The refined partition is then aggregated to a network (d). Subsequently, the algorithm moves again individual nodes in the aggregate network (e), until refinement does no longer change the partition (f). All steps are repeated until the final clustering is created and partitions no longer change.\n",
    "\n",
    "The Leiden module has a resolution parameter which allows to determine the scale of the partition cluster and therefore the coarseness of the clustering. A higher resolution parameter leads to more clusters. The algorithm additionally allows efficient sub-clustering of particular clusters in the dataset by sub-setting the KNN graph. Sub-clustering enables the user to identify cell-type specific states within clusters or a finer cell type labeling{cite}`wagner_revealing_2016`, but can also lead to patterns that are only due to noise present in the data.\n",
    "\n",
    "As mentioned before, the Leiden algorithm is implemented in scanpy."
   ]
  },
  {
   "cell_type": "code",
   "execution_count": 1,
   "id": "3da93cf9-9f79-422b-a2b6-223824d006a5",
   "metadata": {},
   "outputs": [],
   "source": [
    "import scanpy as sc\n",
    "\n",
    "sc.settings.verbosity = 0\n",
    "sc.settings.set_figure_params(dpi=80, facecolor=\"white\", frameon=False)"
   ]
  },
  {
   "cell_type": "markdown",
   "id": "8ca8bfb4",
   "metadata": {},
   "source": [
    "## Clustering human bone marrow cells"
   ]
  },
  {
   "cell_type": "markdown",
   "id": "fac9d5f4-7ef9-413e-b7b7-16320ec75ad2",
   "metadata": {},
   "source": [
    "Firstly, we load our dataset. We perform clustering on the preprocessed sample `site4-donor8` from the NeurIPS human bone marrow dataset which we already preprocessed. \n",
    "\n",
    "This dataset was normalized with log1pPF, scran and scTransform. We will focus on the scran normalized version of the dataset in this notebook as recommended in the preprocessing chapter to better identify substates of individual cells. "
   ]
  },
  {
   "cell_type": "code",
   "execution_count": null,
   "id": "fd4bde9a",
   "metadata": {
    "tags": [
     "parameters"
    ]
   },
   "outputs": [],
   "source": [
    "# this cell is tagged 'parameters' to use papermill\n",
    "input_file = 'placeholder'\n",
    "output_dir = 'placeholder'"
   ]
  },
  {
   "cell_type": "code",
   "execution_count": 2,
   "id": "8a7ab85c-dcdd-445a-b8a0-857ce236940b",
   "metadata": {},
   "outputs": [],
   "source": [
    "adata = sc.read(input_file)"
   ]
  },
  {
   "cell_type": "markdown",
   "id": "504c02ab-3614-430e-a6a7-deea6d9872d8",
   "metadata": {},
   "source": [
    "The Leiden algorithm leverages a KNN graph on the reduced expression space. We can calculate the KNN graph on a lower-dimensional gene expression representation with the scanpy function `sc.pp.neighbors`. We call this function on the top 30 principal-components as these capture most of the variance in the dataset. Visualizing the clustering can help us to understand the results, we therefore embed our cells into a UMAP embedding. More details can be found in the {ref}`pre-processing:dimensionality-reduction` chapter."
   ]
  },
  {
   "cell_type": "code",
   "execution_count": null,
   "id": "7542150a-a302-4ab2-8d7f-8724689e59e5",
   "metadata": {},
   "outputs": [],
   "source": [
    "sc.pp.neighbors(adata, n_pcs=30)\n",
    "sc.tl.umap(adata)"
   ]
  },
  {
   "cell_type": "markdown",
   "id": "3b052e8d-e2fc-48b8-81dc-e09f98b40c86",
   "metadata": {},
   "source": [
    "We can now call the Leiden algorithm. "
   ]
  },
  {
   "cell_type": "code",
   "execution_count": 4,
   "id": "9439eedf-4c95-40ea-afee-dfa55f22ccbb",
   "metadata": {},
   "outputs": [],
   "source": [
    "sc.tl.leiden(adata)"
   ]
  },
  {
   "cell_type": "markdown",
   "id": "6d7cb864-b5d8-4f97-8f4c-c1bf3fc984bf",
   "metadata": {},
   "source": [
    "The default resolution parameter in scanpy is 1.0. However, in many cases the analyst may want to try different resolution parameters to control the coarseness of the clustering. Hence, we recommend to save the clustering result under a specified key which indicates the selected resolution."
   ]
  },
  {
   "cell_type": "code",
   "execution_count": 5,
   "id": "1ec5ac42-42d6-4591-910f-09aff70d884f",
   "metadata": {},
   "outputs": [],
   "source": [
    "sc.tl.leiden(adata, key_added=\"leiden_res0_25\", resolution=0.25)\n",
    "sc.tl.leiden(adata, key_added=\"leiden_res0_5\", resolution=0.5)\n",
    "sc.tl.leiden(adata, key_added=\"leiden_res1\", resolution=1.0)"
   ]
  },
  {
   "cell_type": "markdown",
   "id": "67c9f98d-35a3-457c-b6e6-546f76d27c1a",
   "metadata": {},
   "source": [
    "We now visualize the different clustering results obtained with the Leiden algorithm at different resolutions. As we can see, the resolution heavily influences how coarse our clustering is. Higher resolution parameters lead to more communities, i.e. more identified clusters, while lower resolution parameters lead to fewer communities. The resolution parameter therefore controls how densely clustered regions in the KNN-embedding are grouped together by the algorithm. This will become especially important for annotating the clusters. "
   ]
  },
  {
   "cell_type": "code",
   "execution_count": null,
   "id": "245bc803-9ad0-44f5-b1be-b55afe83a33e",
   "metadata": {},
   "outputs": [],
   "source": [
    "sc.pl.umap(\n",
    "    adata,\n",
    "    color=[\"leiden_res0_25\", \"leiden_res0_5\", \"leiden_res1\"],\n",
    "    legend_loc=\"on data\",\n",
    ")"
   ]
  },
  {
   "cell_type": "markdown",
   "id": "9d50ca54-9e43-4f12-bfc4-eeccdf0740c9",
   "metadata": {},
   "source": [
    "We now clearly inspect the impact of different resolutions on the clustering result. For a resolution of 0.25, the clustering is much coarser and the algorithm detected fewer communities. Additionally, clustered regions are less dense compared to the clustering obtained at a resolution of 1.0. \n",
    "\n",
    "We would like to highlight again that distances between the displayed clusters must be interpreted with caution. As the UMAP embedding is in 2D, distances are not necessarily captured well between all points. We recommend to not interpret distances between clusters visualized on UMAP embeddings."
   ]
  },
  {
   "cell_type": "code",
   "execution_count": null,
   "id": "d9642853",
   "metadata": {},
   "outputs": [],
   "source": [
    "import os\n",
    "os.makedirs(output_dir, exist_ok=True)\n",
    "adata.write(output_dir + \"clustering.h5ad\")"
   ]
  },
  {
   "cell_type": "markdown",
   "id": "d398c113",
   "metadata": {},
   "source": [
    "## Key takeaways"
   ]
  },
  {
   "cell_type": "markdown",
   "id": "6f972720",
   "metadata": {},
   "source": [
    "1. Use Leiden community detection on a single-cell KNN graph.\n",
    "2. Sub-clustering with different resolution parameters allows the user to focus on more detailed substructures in the dataset to potentially identify finer cell states. "
   ]
  },
  {
   "cell_type": "markdown",
   "id": "5382a907",
   "metadata": {},
   "source": [
    "## References"
   ]
  },
  {
   "cell_type": "markdown",
   "id": "f999031d",
   "metadata": {},
   "source": [
    "```{bibliography}\n",
    ":filter: docname in docnames\n",
    "```"
   ]
  },
  {
   "cell_type": "markdown",
   "id": "0b4a9f6c",
   "metadata": {},
   "source": [
    "## Contributors\n",
    "\n",
    "We gratefully acknowledge the contributions of:\n",
    "\n",
    "### Authors\n",
    "\n",
    "* Anna Schaar\n",
    "\n",
    "### Reviewers\n",
    "\n",
    "* Lukas Heumos"
   ]
  }
 ],
 "metadata": {
  "kernelspec": {
   "display_name": "Python 3.10.8 64-bit",
   "language": "python",
   "name": "python3"
  },
  "language_info": {
   "codemirror_mode": {
    "name": "ipython",
    "version": 3
   },
   "file_extension": ".py",
   "mimetype": "text/x-python",
   "name": "python",
   "nbconvert_exporter": "python",
   "pygments_lexer": "ipython3",
   "version": "3.10.8"
  },
  "vscode": {
   "interpreter": {
    "hash": "e7370f93d1d0cde622a1f8e1c04877d8463912d04d973331ad4851f04de6915a"
   }
  }
 },
 "nbformat": 4,
 "nbformat_minor": 5
}
