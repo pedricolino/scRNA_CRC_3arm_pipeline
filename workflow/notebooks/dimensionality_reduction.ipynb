{
 "cells": [
  {
   "cell_type": "markdown",
   "id": "229d366f-7610-47c6-9634-ddab6518dd5e",
   "metadata": {},
   "source": [
    "(pre-processing:dimensionality-reduction)=\n",
    "# Dimensionality Reduction\n",
    "\n",
    "As previously mentioned, scRNA-seq is a high-throughput sequencing technology that produces datasets with high dimensions in the number of cells and genes. This immediately points to the fact that scRNA-seq data suffers from the 'curse of dimensionality'. \n",
    "\n",
    "```{admonition} Curse of dimensionality\n",
    "The Curse of dimensionality was first brought up by R. Bellman {cite}`bellman1957dynamic` and descibes the problem that in theory high-dimensional data contains more information, but in practice this is not the case. Higher dimensional data often contains more noise and redundancy and therefore adding more information does not provide benefits for downstream analysis steps. \n",
    "```\n",
    "\n",
    "Not all genes are informative and are important for the task of cell type clustering based on their expression profiles. We already aimed to reduce the dimensionality of the data with feature selection, as a next step one can further reduce the dimensions of single-cell RNA-seq data with dimensionality reduction algorithms. These algorithms are an important step during preprocessing to reduce the data complexity and for visualization. Several dimensionality reduction techniques have been developed and used for single-cell data analysis.\n",
    "\n",
    ":::{figure-md} Dimensionality reduction\n",
    "\n",
    "<img src=\"../_static/images/preprocessing_visualization/dimensionality_reduction.jpeg\" alt=\"Dimensionality reduction\" class=\"bg-primary mb-1\" width=\"800px\">\n",
    "\n",
    "Dimensionality reduction embeds the high-dimensional data into a lower dimensional space. The low-dimensional representation still captures the underlying structure of the data while having as few as possible dimensions. Here we visualize a three dimensional object projected into two dimensions. \n",
    "\n",
    ":::\n",
    "\n",
    "Xing et al. compared in an independent comparison the stability, accuracy and computing cost of 10 different dimensionality reduction methods {cite}`Xiang2021`. They propose to use t-distributed stochastic neighbor embedding (t-SNE) as it yielded the best overall performance. Uniform manifold approximation and projection (UMAP) showed the highest stability and separates best the original cell populations. An additional dimensionality reduction worth mentioning in this context is principal component analysis (PCA) which is still widely used.\n",
    "\n",
    "Generally, t-SNE and UMAP are very robust and mostly equivalent if specific choices for the initialization are selected {cite}`Kobak2019`.\n",
    "\n",
    "All aforementioned methods are implemented in scanpy.\n"
   ]
  },
  {
   "cell_type": "code",
   "execution_count": 2,
   "id": "9afa9c69-1dc8-4144-b2aa-48c093933185",
   "metadata": {},
   "outputs": [],
   "source": [
    "import scanpy as sc\n",
    "\n",
    "sc.settings.verbosity = 0\n",
    "sc.settings.set_figure_params(\n",
    "    dpi=80,\n",
    "    facecolor=\"white\",\n",
    "    frameon=False,\n",
    ")"
   ]
  },
  {
   "cell_type": "code",
   "execution_count": null,
   "id": "08dbd7c2",
   "metadata": {
    "tags": [
     "parameters"
    ]
   },
   "outputs": [],
   "source": [
    "# this cell is tagged 'parameters' to use papermill\n",
    "input_file = 'placeholder'\n",
    "output_dir = 'placeholder'"
   ]
  },
  {
   "cell_type": "code",
   "execution_count": null,
   "id": "da52c05f-77a4-48f8-a45a-e8de6ab0756a",
   "metadata": {},
   "outputs": [],
   "source": [
    "adata = sc.read(input_file)"
   ]
  },
  {
   "cell_type": "markdown",
   "id": "020902d1-8707-438e-a7e4-d08078eb9e54",
   "metadata": {},
   "source": [
    "We will use a normalized representation of the dataset for dimensionality reduction and visualization, specifically the shifted logarithm. "
   ]
  },
  {
   "cell_type": "code",
   "execution_count": 4,
   "id": "e972a241-44f9-45de-b611-8849662c2455",
   "metadata": {},
   "outputs": [],
   "source": [
    "adata.X = adata.layers[\"log1p_norm\"]"
   ]
  },
  {
   "cell_type": "markdown",
   "id": "314c3c08-c0b0-4b07-94a6-6e3f459673fa",
   "metadata": {},
   "source": [
    "We start with:\n",
    "\n",
    "## PCA\n",
    "\n",
    "In our dataset each cell is a vector of a `n_var`-dimensional vector space spanned by some orthonormal basis. As scRNA-seq suffers from the 'curse of dimensionality', we know that not all features are important to understand the underlying dynamics of the dataset and that there is an inherent redundancy{cite}`grun2014validation`. PCA creates a new set of uncorrelated variables, so called principle components (PCs), via an orthogonal transformation of the original dataset. The PCs are linear combinations of features in the original dataset and are ranked with decreasing order of variance to define the transformation. Through the ranking usually the first PC amounts to the largest possible variance. PCs with the lowest variance are discarded to effectively reduce the dimensionality of the data without losing information.\n",
    "\n",
    "PCA offers the advantage that it is highly interpretable and computationally efficient. However, as scRNA-seq datasets are rather sparse due to dropout events and therefore highly non-linear, visualization with the linear dimensionality reduction technique PCA is not very appropriate. PCA is typically used to select the top 10-50 PCs which are used for downstream analysis tasks.\n"
   ]
  },
  {
   "cell_type": "code",
   "execution_count": 5,
   "id": "ccfb733f-5748-4b22-b744-5fb2b7bcd01d",
   "metadata": {},
   "outputs": [],
   "source": [
    "# setting highly variable as highly deviant to use scanpy 'use_highly_variable' argument in sc.pp.pca\n",
    "adata.var[\"highly_variable\"] = adata.var[\"highly_deviant\"]\n",
    "sc.pp.pca(adata, svd_solver=\"arpack\", use_highly_variable=True)"
   ]
  },
  {
   "cell_type": "code",
   "execution_count": null,
   "id": "78895ee5-16d5-4e44-b03a-54e4e21cbdb5",
   "metadata": {},
   "outputs": [],
   "source": [
    "sc.pl.pca_scatter(adata, color=\"total_counts\")"
   ]
  },
  {
   "cell_type": "markdown",
   "id": "a7787065-67ae-4ae4-9966-4bba40ac705b",
   "metadata": {},
   "source": [
    "\n",
    "## t-SNE\n",
    "\n",
    "t-SNE is a graph based, non-linear dimensionality reduction technique which projects the high dimensional data onto 2D or 3D components. The method defines a Gaussian probability distribution based on the high-dimensional Euclidean distances between data points. Subsequently, a Student t-distribution is used to recreate the probability distribution in a low dimensional space where the embeddings are optimized using gradient descent."
   ]
  },
  {
   "cell_type": "code",
   "execution_count": 7,
   "id": "78dd229f-0fc0-4d45-ba92-e01262640fb5",
   "metadata": {},
   "outputs": [],
   "source": [
    "sc.tl.tsne(adata, use_rep=\"X_pca\")"
   ]
  },
  {
   "cell_type": "code",
   "execution_count": null,
   "id": "4e8ab050-cb2d-49c9-b7bf-9b170dadc166",
   "metadata": {},
   "outputs": [],
   "source": [
    "sc.pl.tsne(adata, color=\"total_counts\")"
   ]
  },
  {
   "cell_type": "markdown",
   "id": "fc9c302a-05bc-429a-b160-54b31a188b47",
   "metadata": {},
   "source": [
    "\n",
    "## UMAP\n",
    "\n",
    "UMAP is a graph based, non-linear dimensionality reduction technique and principally similar to t-SNE. It constructs a high dimensional graph representation of the dataset and optimizes the low-dimensional graph representation to be structurally as similar as possible to the original graph.\n",
    "\n",
    "\n",
    "We first calculate PCA and subsequently a neighborhood graph on our data."
   ]
  },
  {
   "cell_type": "code",
   "execution_count": null,
   "id": "ffedd579-e438-4f8b-8c03-a944f4db8c39",
   "metadata": {},
   "outputs": [],
   "source": [
    "sc.pp.neighbors(adata)\n",
    "sc.tl.umap(adata)"
   ]
  },
  {
   "cell_type": "code",
   "execution_count": null,
   "id": "5cc45a7d-6500-41ad-97b9-1a167e1019e1",
   "metadata": {},
   "outputs": [],
   "source": [
    "sc.pl.umap(adata, color=\"total_counts\")"
   ]
  },
  {
   "cell_type": "markdown",
   "id": "3d477113-7a8d-46e1-aa99-2916783e5827",
   "metadata": {},
   "source": [
    "## Inspecting quality control metrics \n",
    "\n",
    "We can now also inspect the quality control metrics we calculated previously in our PCA, TSNE or UMAP plot and potentially identify low-quality cells."
   ]
  },
  {
   "cell_type": "code",
   "execution_count": null,
   "id": "1500469f-c475-4795-be3c-5d8f37cdea69",
   "metadata": {},
   "outputs": [],
   "source": [
    "# only non-boolean columns\n",
    "non_bool_cols = [col for col in adata.obs.columns if not adata.obs[col].dtype == bool]\n",
    "\n",
    "sc.pl.umap(\n",
    "    adata,\n",
    "    color=non_bool_cols,\n",
    "    save=\"_all_obs_columns.png\",\n",
    ")"
   ]
  },
  {
   "cell_type": "markdown",
   "id": "31ae594b-bcbc-4e15-a3c5-c535eec89f8e",
   "metadata": {},
   "source": [
    "As we can observe, cells with a high doublet score are projected to the same region in the UMAP. We will keep them in the dataset for now but might re-visit our quality control strategy later."
   ]
  },
  {
   "cell_type": "code",
   "execution_count": null,
   "id": "b4f14e5e-3865-4afd-bc96-7e0b42b9bf39",
   "metadata": {},
   "outputs": [],
   "source": [
    "import os\n",
    "os.makedirs(output_dir, exist_ok=True)\n",
    "adata.write(output_dir + \"dimensionality_reduction.h5ad\")"
   ]
  },
  {
   "cell_type": "markdown",
   "id": "28855f58-cda0-4280-b8e9-23bfbfe4be72",
   "metadata": {},
   "source": [
    "## References\n",
    "\n",
    "```{bibliography}\n",
    ":filter: docname in docnames\n",
    "```"
   ]
  },
  {
   "cell_type": "markdown",
   "id": "3b167873",
   "metadata": {},
   "source": [
    "## Contributors\n",
    "\n",
    "We gratefully acknowledge the contributions of:\n",
    "\n",
    "### Authors\n",
    "\n",
    "* Anna Schaar\n",
    "\n",
    "### Reviewers\n",
    "\n",
    "* Lukas Heumos\n"
   ]
  }
 ],
 "metadata": {
  "kernelspec": {
   "display_name": "Python 3 (ipykernel)",
   "language": "python",
   "name": "python3"
  },
  "language_info": {
   "codemirror_mode": {
    "name": "ipython",
    "version": 3
   },
   "file_extension": ".py",
   "mimetype": "text/x-python",
   "name": "python",
   "nbconvert_exporter": "python",
   "pygments_lexer": "ipython3",
   "version": "3.9.15"
  },
  "vscode": {
   "interpreter": {
    "hash": "9a4b8eb2e3b598ccf69997907eca0492d4b3d651094270ed44ac0cb064672ed3"
   }
  }
 },
 "nbformat": 4,
 "nbformat_minor": 5
}
