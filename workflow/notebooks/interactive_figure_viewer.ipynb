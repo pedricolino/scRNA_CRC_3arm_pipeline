{
 "cells": [
  {
   "cell_type": "markdown",
   "metadata": {},
   "source": [
    "# Compare different parameter options\n",
    "\n",
    "<div class=\"alert alert-block alert-info\">\n",
    "Scroll to the bottom.</div>"
   ]
  },
  {
   "cell_type": "code",
   "execution_count": null,
   "metadata": {},
   "outputs": [],
   "source": [
    "import ipywidgets as widgets\n",
    "from IPython.display import display\n",
    "from PIL import Image\n",
    "import os\n",
    "import pandas as pd\n",
    "from re import sub"
   ]
  },
  {
   "cell_type": "code",
   "execution_count": null,
   "metadata": {
    "tags": [
     "parameters"
    ]
   },
   "outputs": [],
   "source": [
    "input_folder = os.path.dirname(os.path.realpath('__file__')) + \"/figures\""
   ]
  },
  {
   "cell_type": "code",
   "execution_count": null,
   "metadata": {},
   "outputs": [],
   "source": [
    "# dataframe with all files inside the folder\n",
    "df = pd.DataFrame(os.listdir(input_folder), columns=[\"filename\"])\n",
    "\n",
    "# divide the filename into parts divided by \"-\" and create a new column for each part\n",
    "df = df.join(df[\"filename\"].str.split(\"-\", expand=True).add_prefix(\"part_\"))\n",
    "\n",
    "# remove the file extension from the last column\n",
    "df.iloc[:, -1] = df.iloc[:, -1].apply(lambda x: sub(\"\\\\..*\", \"\", x))\n",
    "\n",
    "# remove the filanem column\n",
    "df = df.drop(columns=[\"filename\"])\n",
    "\n",
    "# replace column names\n",
    "parameters = [\"Count layer\", \"Normalization\", \"Scaling before PCA, UMAP, etc.\", \"Which genes to use for PCA, UMAP, etc.\",\n",
    "                \"Method to remove cell cycle effects\", \"Number of PCs from PCA to use for UMAP\", \"Number of neighbors to use for UMAP\",\n",
    "                \"Quality control method\", \"Embedding method\", \"Sample separately or combined\", \"Feature to color by\"]\n",
    "df.columns = parameters\n",
    "\n",
    "df.head(2)"
   ]
  },
  {
   "cell_type": "code",
   "execution_count": null,
   "metadata": {},
   "outputs": [],
   "source": [
    "import matplotlib.pyplot as plt\n",
    "\n",
    "# Function to update images\n",
    "def update_images(p0, p1, p2, p3, p4, p5, p6, p7, p8, p9, p10, compare_param):\n",
    "    compare_param_index = parameters.index(compare_param)  # Get the index of the selected parameter\n",
    "    compare_values = df[compare_param].unique()  # Get unique values of the selected parameter\n",
    "    \n",
    "    # Stop if the parameter to compare has only one value\n",
    "    if len(compare_values) <= 1:\n",
    "        print(f\"The parameter '{compare_param}' has only one unique value. Please select a different parameter for comparison.\")\n",
    "        return\n",
    "    \n",
    "    images = []\n",
    "    labels = []\n",
    "\n",
    "    for value in compare_values:\n",
    "        params = [p0, p1, p2, p3, p4, p5, p6, p7, p8, p9, p10]\n",
    "        params[compare_param_index] = value  # Vary the selected parameter\n",
    "        filename = f\"{'-'.join(params)}.jpg\"\n",
    "        filepath = os.path.join(input_folder, filename)\n",
    "\n",
    "        # Load image if it exists, else use a placeholder\n",
    "        if os.path.exists(filepath):\n",
    "            images.append(Image.open(filepath))\n",
    "        else:\n",
    "            images.append(Image.new('RGB', (100, 100), color='white'))\n",
    "        \n",
    "        labels.append(f\"{df.columns[compare_param_index]}: {value}\")  # Label for each image\n",
    "\n",
    "    # Set up subplot layout\n",
    "    num_images = len(images)\n",
    "    if p8 == \"combined\":\n",
    "        cols, rows = num_images, 1  # All images in one row\n",
    "    else:\n",
    "        cols, rows = 2, -(-num_images // 2)  # Two columns, adjust rows dynamically\n",
    "\n",
    "    # Display images using matplotlib\n",
    "    fig, axes = plt.subplots(rows, cols, figsize=(cols * 15, rows * 15))\n",
    "    axes = axes.flatten() if num_images > 1 else [axes]  # Ensure iterable axes\n",
    "\n",
    "    for i, (img, label) in enumerate(zip(images, labels)):\n",
    "        axes[i].imshow(img)\n",
    "        axes[i].axis(\"off\")\n",
    "        axes[i].set_title(label, fontsize=22)\n",
    "\n",
    "    # Hide unused subplots if any\n",
    "    for j in range(i + 1, len(axes)):\n",
    "        axes[j].axis(\"off\")\n",
    "\n",
    "    plt.show()\n",
    "\n",
    "# Create a layout with increased description width and dropdown width\n",
    "dropdown_layout = widgets.Layout(width=\"600px\")  # Increase width to prevent truncation\n",
    "desc_style = {\"description_width\": \"250px\"}  # Adjust description width\n",
    "\n",
    "dropdowns = [widgets.Dropdown(options=df[desc].unique(), description=desc, layout=dropdown_layout, style=desc_style) for i, desc in enumerate(parameters)]\n",
    "\n",
    "# Dropdown for choosing parameter to compare\n",
    "compare_dropdown = widgets.Dropdown(options=parameters, description=\"Compare different options of this parameter\", layout=dropdown_layout, style=desc_style)\n",
    "\n",
    "# Interactive function\n",
    "widgets.interactive(update_images, \n",
    "                    p0=dropdowns[0], p1=dropdowns[1], p2=dropdowns[2], p3=dropdowns[3], \n",
    "                    p4=dropdowns[4], p5=dropdowns[5], p6=dropdowns[6], p7=dropdowns[7], \n",
    "                    p8=dropdowns[8], p9=dropdowns[9], p10=dropdowns[10],\n",
    "                    compare_param=compare_dropdown)"
   ]
  }
 ],
 "metadata": {
  "kernelspec": {
   "display_name": "scpca",
   "language": "python",
   "name": "python3"
  },
  "language_info": {
   "codemirror_mode": {
    "name": "ipython",
    "version": 3
   },
   "file_extension": ".py",
   "mimetype": "text/x-python",
   "name": "python",
   "nbconvert_exporter": "python",
   "pygments_lexer": "ipython3",
   "version": "3.12.8"
  }
 },
 "nbformat": 4,
 "nbformat_minor": 2
}
