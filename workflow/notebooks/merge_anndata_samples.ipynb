{
 "cells": [
  {
   "cell_type": "code",
   "execution_count": 1,
   "id": "dafb3ba8-f6a0-41c4-867d-ebd2b1ebc26c",
   "metadata": {},
   "outputs": [
    {
     "data": {
      "text/plain": [
       "['/data/cephfs-1/work/groups/cubi/users/cemo10_c/scRNA/scRNA_preprocessing_pipeline/results/preprocessing/CE_SC_5FU_OnOff_3/annotation.h5ad',\n",
       " '/data/cephfs-1/work/groups/cubi/users/cemo10_c/scRNA/scRNA_preprocessing_pipeline/results/preprocessing/CE_SC_5FU_OnOff_2/annotation.h5ad']"
      ]
     },
     "execution_count": 1,
     "metadata": {},
     "output_type": "execute_result"
    }
   ],
   "source": [
    "import glob\n",
    "\n",
    "# get all file paths\n",
    "sample_paths =  glob.glob(\"/data/cephfs-1/work/groups/cubi/users/cemo10_c/scRNA/scRNA_preprocessing_pipeline/results/preprocessing/*/annotation.h5ad\")\n",
    "sample_paths[0:2]"
   ]
  },
  {
   "cell_type": "code",
   "execution_count": 3,
   "id": "7218122f-3978-45f2-9272-97a067d76491",
   "metadata": {},
   "outputs": [
    {
     "data": {
      "text/plain": [
       "['OnOff',\n",
       " 'OnOff',\n",
       " 'Control',\n",
       " 'Control',\n",
       " 'Conti',\n",
       " 'Control',\n",
       " 'Conti',\n",
       " 'OnOff',\n",
       " 'Control',\n",
       " 'Conti',\n",
       " 'OnOff',\n",
       " 'OnOff',\n",
       " 'Conti',\n",
       " 'Control',\n",
       " 'Conti']"
      ]
     },
     "execution_count": 3,
     "metadata": {},
     "output_type": "execute_result"
    }
   ],
   "source": [
    "import re\n",
    "\n",
    "# extract sample name\n",
    "sample_ids = [match.group() for path in sample_paths if (match := re.search(\"CE[a-zA-Z0-9_]*\", path))]\n",
    "\n",
    "# remove CE_SC_ prefix\n",
    "sample_ids = [re.sub(\"CE_SC_\", \"\", name) for name in sample_ids]\n",
    "sample_ids = [re.sub(\"5FU_\", \"\", name) for name in sample_ids]\n",
    "\n",
    "# from sample names split by _ and take the first element as treatment and the second as week number\n",
    "sample_treatments = [name.split(\"_\")[0] for name in sample_ids]\n",
    "sample_weeks = [name.split(\"_\")[1] for name in sample_ids]\n",
    "sample_treatments = [\"Control\" if treatment == \"C\" else treatment for treatment in sample_treatments]\n",
    "sample_treatments"
   ]
  },
  {
   "cell_type": "code",
   "execution_count": 5,
   "id": "3bcb4cc7-6ac2-4793-8cef-6280740cbaf6",
   "metadata": {},
   "outputs": [
    {
     "name": "stdout",
     "output_type": "stream",
     "text": [
      "OnOff_3\n",
      "OnOff_2\n",
      "C_5\n",
      "C_4\n",
      "Conti_3\n",
      "C_3\n",
      "Conti_5\n",
      "OnOff_1\n",
      "C_2\n",
      "Conti_2\n",
      "OnOff_4\n",
      "OnOff_5\n",
      "Conti_1\n",
      "C_1\n",
      "Conti_4\n",
      "sample\n",
      "OnOff_2    9837\n",
      "Conti_1    9559\n",
      "OnOff_5    9342\n",
      "C_1        9008\n",
      "Conti_3    8800\n",
      "OnOff_3    8668\n",
      "C_4        8047\n",
      "C_3        7809\n",
      "Conti_4    7591\n",
      "OnOff_1    7478\n",
      "C_5        7075\n",
      "C_2        6787\n",
      "Conti_2    6668\n",
      "OnOff_4    6030\n",
      "Conti_5    1296\n",
      "Name: count, dtype: int64\n"
     ]
    },
    {
     "data": {
      "text/plain": [
       "AnnData object with n_obs × n_vars = 113995 × 11346\n",
       "    obs: 'n_genes_by_counts', 'log1p_n_genes_by_counts', 'total_counts', 'log1p_total_counts', 'pct_counts_in_top_20_genes', 'total_counts_mt', 'log1p_total_counts_mt', 'pct_counts_mt', 'total_counts_ribo', 'log1p_total_counts_ribo', 'pct_counts_ribo', 'total_counts_hb', 'log1p_total_counts_hb', 'pct_counts_hb', 'outlier', 'mt_outlier', 'scDblFinder_score', 'scDblFinder_class', 'size_factors', 'leiden', 'leiden_res0_25', 'leiden_res0_5', 'leiden_res1', 'leiden_1', 'leiden_2', 'CMS1_score', 'CMS2_score', 'CMS3_score', 'CMS4_score', 'CMS', 'celltypist_cell_label_coarse', 'celltypist_conf_score_coarse', 'celltypist_cell_label_fine', 'celltypist_conf_score_fine', 'treatment', 'week', 'sample'\n",
       "    obsm: 'X_pca', 'X_tsne', 'X_umap'\n",
       "    layers: 'analytic_pearson_residuals', 'counts', 'log1p_norm', 'scran_normalization', 'soupX_counts'"
      ]
     },
     "execution_count": 5,
     "metadata": {},
     "output_type": "execute_result"
    }
   ],
   "source": [
    "# create a samples dictionary\n",
    "samples = dict(zip(sample_ids, zip(sample_paths, sample_treatments, sample_weeks)))\n",
    "\n",
    "import scanpy as sc\n",
    "\n",
    "adatas = {}\n",
    "\n",
    "for sample_id, (sample_path, treatment, week) in samples.items():\n",
    "    print(sample_id)\n",
    "    sample_adata = sc.read_h5ad(sample_path)\n",
    "    sample_adata.obs['treatment'] = treatment\n",
    "    sample_adata.obs['week'] = week\n",
    "    adatas[sample_id] = sample_adata\n",
    "    \n",
    "import anndata as ad\n",
    "\n",
    "adata = ad.concat(adatas, label=\"sample\")\n",
    "adata.obs_names_make_unique()\n",
    "print(adata.obs[\"sample\"].value_counts())\n",
    "adata"
   ]
  },
  {
   "cell_type": "code",
   "execution_count": 7,
   "id": "04bac852-a370-4fbb-8606-ebb502d2e7d6",
   "metadata": {},
   "outputs": [],
   "source": [
    "adata.write('/data/cephfs-1/work/groups/cubi/users/cemo10_c/scRNA/scRNA_preprocessing_pipeline/results/preprocessing/merged.h5ad')"
   ]
  }
 ],
 "metadata": {
  "kernelspec": {
   "display_name": "preprocessing",
   "language": "python",
   "name": "python3"
  },
  "language_info": {
   "codemirror_mode": {
    "name": "ipython",
    "version": 3
   },
   "file_extension": ".py",
   "mimetype": "text/x-python",
   "name": "python",
   "nbconvert_exporter": "python",
   "pygments_lexer": "ipython3",
   "version": "3.9.15"
  }
 },
 "nbformat": 4,
 "nbformat_minor": 5
}
