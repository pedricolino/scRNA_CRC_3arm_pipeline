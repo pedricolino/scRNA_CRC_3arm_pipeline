{
 "cells": [
  {
   "cell_type": "markdown",
   "id": "c8b6d752",
   "metadata": {
    "papermill": {
     "duration": 0.014515,
     "end_time": "2025-02-04T15:35:58.114113",
     "exception": false,
     "start_time": "2025-02-04T15:35:58.099598",
     "status": "completed"
    },
    "tags": []
   },
   "source": [
    "# Processing\n",
    "\n",
    "## Setup"
   ]
  },
  {
   "cell_type": "code",
   "execution_count": null,
   "id": "c78a778e",
   "metadata": {
    "execution": {
     "iopub.execute_input": "2025-02-04T15:35:58.135909Z",
     "iopub.status.busy": "2025-02-04T15:35:58.135521Z",
     "iopub.status.idle": "2025-02-04T15:36:13.473981Z",
     "shell.execute_reply": "2025-02-04T15:36:13.473324Z"
    },
    "papermill": {
     "duration": 15.352423,
     "end_time": "2025-02-04T15:36:13.475669",
     "exception": false,
     "start_time": "2025-02-04T15:35:58.123246",
     "status": "completed"
    },
    "tags": []
   },
   "outputs": [],
   "source": [
    "# Python packages\n",
    "import scanpy as sc\n",
    "import numpy as np\n",
    "import pandas as pd\n",
    "import matplotlib.pyplot as plt\n",
    "import matplotlib\n",
    "\n",
    "# Settings\n",
    "sc.settings.verbosity = 0\n",
    "sc.settings.set_figure_params(dpi=60, facecolor=\"#FFFFFF\", frameon=False, transparent=False)\n",
    "seed = 10\n",
    "np.random.seed(seed)\n",
    "\n",
    "import warnings\n",
    "warnings.filterwarnings('ignore')\n",
    "\n",
    "# Custom plotting function\n",
    "# adapted from https://github.com/scverse/scanpy/issues/2333#issuecomment-1563790561\n",
    "def split_dim_plot(adata, split_by, embedding=\"umap\", color=None, ncol=5, nrow=None, **kwargs):\n",
    "    size = 120000 / len(adata.obs_names) * len(adata.obs[split_by].unique()) / 1.2  # Keep point size constant\n",
    "    categories = adata.obs[split_by].cat.categories\n",
    "    if nrow is None:\n",
    "        nrow = int(np.ceil(len(categories) / ncol))\n",
    "    \n",
    "    # Update global font sizes\n",
    "    plt.rcParams.update({\n",
    "        \"font.size\": 14,  # General font size\n",
    "        \"axes.titlesize\": 18,  # Subplot title size\n",
    "        \"legend.fontsize\": 14,  # Legend font size\n",
    "        \"xtick.labelsize\": 14,  # X-axis labels\n",
    "        \"ytick.labelsize\": 14   # Y-axis labels\n",
    "    })\n",
    "    \n",
    "    fig, axs = plt.subplots(nrow, ncol, figsize=(5*ncol, 5*nrow))\n",
    "    axs = axs.flatten()\n",
    "\n",
    "    # Plot individual subplots\n",
    "    for i, cat in enumerate(categories):\n",
    "        ax = axs[i]\n",
    "        \n",
    "        # Plot background (all cells in light gray)\n",
    "        sc.pl.embedding(adata, basis=embedding, color=None, size=size, show=False, ax=ax, na_color=\"#EEEEEE\")\n",
    "        \n",
    "        # Plot current category with color\n",
    "        sc.pl.embedding(\n",
    "            adata[adata.obs[split_by] == cat], \n",
    "            basis=embedding, \n",
    "            color=color, \n",
    "            ax=ax, \n",
    "            show=False, \n",
    "            title=cat, \n",
    "            size=size, \n",
    "            legend_loc=None,  # Remove individual legends\n",
    "            **kwargs\n",
    "        )\n",
    "    \n",
    "        ax.set_title(cat, fontsize=18)  # Set larger font for subplot titles\n",
    "\n",
    "    # Hide unused subplots if any\n",
    "    for j in range(i + 1, len(axs)):\n",
    "        axs[j].axis(\"off\")\n",
    "\n",
    "    # Create common legend\n",
    "    if color and color in adata.obs:\n",
    "        unique_categories = adata.obs[color].cat.categories\n",
    "        colors = adata.uns.get(color + \"_colors\", plt.cm.tab10(range(len(unique_categories))))  # Get colors\n",
    "        \n",
    "        legend_patches = [plt.Line2D([0], [0], marker=\"o\", color=\"w\", markerfacecolor=c, markersize=12, label=cat)\n",
    "                          for cat, c in zip(unique_categories, colors)]\n",
    "\n",
    "        fig.legend(handles=legend_patches, loc=\"lower center\", ncol=min(len(unique_categories), 5), fontsize=16)  # Bigger legend\n",
    "        unique_categories = adata.obs[color].cat.categories\n",
    "        colors = adata.uns.get(color + \"_colors\", plt.cm.tab10(range(len(unique_categories))))  # Get colors\n",
    "        \n",
    "        legend_patches = [plt.Line2D([0], [0], marker=\"o\", color=\"w\", markerfacecolor=c, markersize=12, label=cat)\n",
    "                          for cat, c in zip(unique_categories, colors)]\n",
    "\n",
    "        fig.legend(handles=legend_patches, loc=\"lower center\", ncol=min(len(unique_categories), 5), fontsize=16)  # Bigger legend\n",
    "\n",
    "    # Adjust layout to make space for legend\n",
    "    plt.tight_layout(rect=[0, 0.05, 1, 1])\n",
    "\n",
    "    # plt.show()"
   ]
  },
  {
   "cell_type": "code",
   "execution_count": null,
   "id": "3df38c07",
   "metadata": {
    "execution": {
     "iopub.execute_input": "2025-02-04T15:36:13.565915Z",
     "iopub.status.busy": "2025-02-04T15:36:13.565530Z",
     "iopub.status.idle": "2025-02-04T15:36:13.569219Z",
     "shell.execute_reply": "2025-02-04T15:36:13.568678Z"
    },
    "papermill": {
     "duration": 0.013186,
     "end_time": "2025-02-04T15:36:13.570415",
     "exception": false,
     "start_time": "2025-02-04T15:36:13.557229",
     "status": "completed"
    },
    "tags": [
     "parameters"
    ]
   },
   "outputs": [],
   "source": [
    "input_file = \"/data/cephfs-1/work/groups/cubi/users/cemo10_c/scRNA/scRNA_preprocessing_pipeline/results/subset/adata_soupX_counts_theislab_tutorial.h5ad\"\n",
    "count_layer = \"soupX_counts\"\n",
    "normalization = \"log1p_norm\"\n",
    "scale_data_before_pca = False\n",
    "genes_for_pca = \"highly_variable_per_sample\" # \"all\" or \"globally_highly_variable\" or \"highly_variable_per_sample\"\n",
    "cc_method = \"None\" # None or \"regress_out\" or \"cc_genes_out\" or \"cc_difference_regressed_out\" or \"cPCA\"\n",
    "pca_n_components = 5\n",
    "umap_n_neighbors = 5\n",
    "output_file = \"None\"\n",
    "tsv_file = \"/data/cephfs-1/home/users/cemo10_c/work/scRNA/scRNA_preprocessing_pipeline/results/analysis/umap_pca_distances.tsv\"\n",
    "figures_folder = \"/data/cephfs-1/home/users/cemo10_c/work/scRNA/scRNA_preprocessing_pipeline/misc/figures_test/\"\n",
    "qc_method = \"theislab_tutorial\"\n",
    "save_adata = False"
   ]
  },
  {
   "cell_type": "code",
   "execution_count": null,
   "id": "08a5331f",
   "metadata": {},
   "outputs": [],
   "source": [
    "cc_method = str(cc_method)\n",
    "\n",
    "# Create folder if it does not exist\n",
    "import os\n",
    "if not os.path.exists(figures_folder):\n",
    "    os.makedirs(figures_folder)\n",
    "\n",
    "# Path including figure name suffixes\n",
    "figures_path = str(figures_folder) + str(count_layer) + \"-\" + str(normalization) + \"-\" + str(scale_data_before_pca) + \"-\" + str(genes_for_pca) + \"-\" + str(cc_method) + \"-\" + str(pca_n_components) + \"-\" + str(umap_n_neighbors) + \"-\" + str(qc_method)"
   ]
  },
  {
   "cell_type": "code",
   "execution_count": null,
   "id": "f59c7901",
   "metadata": {
    "execution": {
     "iopub.execute_input": "2025-02-04T15:36:13.608937Z",
     "iopub.status.busy": "2025-02-04T15:36:13.608459Z",
     "iopub.status.idle": "2025-02-04T15:36:51.516196Z",
     "shell.execute_reply": "2025-02-04T15:36:51.515232Z"
    },
    "papermill": {
     "duration": 37.933055,
     "end_time": "2025-02-04T15:36:51.532706",
     "exception": false,
     "start_time": "2025-02-04T15:36:13.599651",
     "status": "completed"
    },
    "tags": []
   },
   "outputs": [],
   "source": [
    "adata = sc.read_h5ad(input_file, backed = False)\n",
    "adata.X = adata.layers[normalization + \"_of_\" + count_layer].copy()\n",
    "adata"
   ]
  },
  {
   "cell_type": "markdown",
   "id": "b70779f1",
   "metadata": {},
   "source": [
    "### Analyse cell cycle phases"
   ]
  },
  {
   "cell_type": "code",
   "execution_count": null,
   "id": "4ceec150",
   "metadata": {
    "execution": {
     "iopub.execute_input": "2025-02-04T15:36:53.356671Z",
     "iopub.status.busy": "2025-02-04T15:36:53.356068Z",
     "iopub.status.idle": "2025-02-04T15:37:12.638366Z",
     "shell.execute_reply": "2025-02-04T15:37:12.637565Z"
    },
    "papermill": {
     "duration": 19.293013,
     "end_time": "2025-02-04T15:37:12.639829",
     "exception": false,
     "start_time": "2025-02-04T15:36:53.346816",
     "status": "completed"
    },
    "tags": []
   },
   "outputs": [],
   "source": [
    "cell_cycle_genes = [x.strip() for x in open('/data/cephfs-1/home/users/cemo10_c/work/scRNA/scRNA_preprocessing_pipeline/resources/regev_lab_cell_cycle_genes.txt')]\n",
    "s_genes = cell_cycle_genes[:43]\n",
    "g2m_genes = cell_cycle_genes[43:]\n",
    "\n",
    "cell_cycle_genes = [x for x in cell_cycle_genes if x in adata.var_names]\n",
    "s_genes = [x for x in s_genes if x in adata.var_names]\n",
    "g2m_genes = [x for x in g2m_genes if x in adata.var_names]\n",
    "\n",
    "sc.pp.scale(adata)\n",
    "sc.tl.score_genes_cell_cycle(adata, s_genes=s_genes, g2m_genes=g2m_genes)\n",
    "adata.obs[\"cell_cycle_diff\"] = adata.obs[\"S_score\"] - adata.obs[\"G2M_score\"]\n",
    "\n",
    "if not scale_data_before_pca:\n",
    "    adata.X = adata.layers[normalization + \"_of_\" + count_layer].copy()\n",
    "    print(\"Not scaling data before PCA\")\n",
    "else:\n",
    "    print(\"Scaling data before PCA\")"
   ]
  },
  {
   "cell_type": "code",
   "execution_count": null,
   "id": "111dd099",
   "metadata": {},
   "outputs": [],
   "source": [
    "plt.rcParams['figure.figsize']=(10, 7) # rescale figures\n",
    "sc.pl.violin(adata, 'total_counts', groupby='sample', size=0, log=True, cut=0, rotation=90)\n",
    "sc.pl.violin(adata, 'pct_counts_mt', groupby='sample', size=0, rotation=90)\n",
    "\n",
    "# stacked bar plot of cell cycle phase per sample\n",
    "cell_cycle = adata.obs.groupby('sample')['phase'].value_counts(normalize=True).unstack().fillna(0)\n",
    "cell_cycle.plot(kind='bar', stacked=True, figsize=(12, 5), color=['#f8766d', '#00ba38', '#619cff'])\n",
    "plt.legend(title='phase')\n",
    "plt.ylabel('fraction of cells')\n",
    "plt.title('Cell cycle phase distribution')\n",
    "plt.grid(False)"
   ]
  },
  {
   "cell_type": "code",
   "execution_count": null,
   "id": "cce433c2",
   "metadata": {},
   "outputs": [],
   "source": [
    "# Do this only if we need it later, takes around 6min\n",
    "# I verified that this method produces similar results to the equivalent R method described in OSCA. The discarded genes in both methods were >90% identical.\n",
    "\n",
    "if cc_method == \"cc_genes_out\":\n",
    "    import statsmodels.api as sm\n",
    "    from joblib import Parallel, delayed  # Parallel processing\n",
    "    from tqdm import tqdm  # Progress bar\n",
    "\n",
    "    sc.pp.highly_variable_genes(adata) # Get top highly variable genes (HVGs)\n",
    "    sc.tl.pca(adata, n_comps=50, use_highly_variable=True) # Run PCA on the top HVGs\n",
    "    adata.obs[\"phase\"] = adata.obs[\"phase\"].astype(\"category\") # Ensure 'phase' is categorical\n",
    "    X = pd.get_dummies(adata.obs[\"phase\"], drop_first=True) # Convert into one-hot encoded variables\n",
    "    X = sm.add_constant(X)  # Add intercept term\n",
    "    X = X.astype(float) # Ensure X is numeric\n",
    "    highly_variable_genes = adata.var[\"highly_variable\"] # Restrict to highly variable genes\n",
    "    top_hvgs = adata.var_names[highly_variable_genes]\n",
    "\n",
    "    # Function to compute variance explained for one gene\n",
    "    def compute_variance(gene):\n",
    "        y = adata[:, gene].X\n",
    "        # Convert sparse to dense if needed\n",
    "        if not isinstance(y, np.ndarray):\n",
    "            y = y.toarray().flatten()\n",
    "        y = y.astype(float) # Ensure y is numeric\n",
    "        model = sm.OLS(y, X).fit() # Fit linear model\n",
    "        return gene, model.rsquared * 100  # Convert R² to percentage\n",
    "\n",
    "    # Run in parallel using all available CPU cores (-1)\n",
    "    results = Parallel(n_jobs=-1)(\n",
    "        # delayed(compute_variance)(gene) for gene in tqdm(top_hvgs, desc=\"Processing Genes\") # only highly variable\n",
    "        delayed(compute_variance)(gene) for gene in tqdm(adata.var_names, desc=\"Processing Genes\") # all genes\n",
    "    )\n",
    "\n",
    "    variance_by_phase = pd.Series(dict(results)) # Convert results to Pandas Series\n",
    "    threshold = 5 # arbitrary threshold in percent\n",
    "    discard = variance_by_phase > threshold # Filter genes where variance explained < threshold\n",
    "    print(discard.value_counts())  # Summary of genes kept/removed\n",
    "\n",
    "    # plot the variance explained\n",
    "    plt.rcParams['figure.figsize']=(13,7) # rescale figures\n",
    "    plt.hist(variance_by_phase, bins=50)\n",
    "    plt.axvline(threshold, color=\"red\", linestyle=\"--\")\n",
    "    plt.xlabel(\"Variance Explained (%)\")\n",
    "    plt.ylabel(\"Number of Genes\")\n",
    "    plt.title(\"Variance Explained by Phase\")\n",
    "    plt.show()"
   ]
  },
  {
   "cell_type": "markdown",
   "id": "be6c6133",
   "metadata": {},
   "source": [
    "### Perform different cell cycle methods"
   ]
  },
  {
   "cell_type": "code",
   "execution_count": null,
   "id": "0009758a",
   "metadata": {
    "execution": {
     "iopub.execute_input": "2025-02-04T15:38:52.067941Z",
     "iopub.status.busy": "2025-02-04T15:38:52.067546Z",
     "iopub.status.idle": "2025-02-04T15:38:59.435166Z",
     "shell.execute_reply": "2025-02-04T15:38:59.434527Z"
    },
    "papermill": {
     "duration": 7.378187,
     "end_time": "2025-02-04T15:38:59.436530",
     "exception": false,
     "start_time": "2025-02-04T15:38:52.058343",
     "status": "completed"
    },
    "tags": []
   },
   "outputs": [],
   "source": [
    "plt.rcParams['figure.figsize']=(8,8) # rescale figures to reduce jupyter notebook size\n",
    "if genes_for_pca == \"globally_highly_variable\":\n",
    "    sc.pp.highly_variable_genes(adata)\n",
    "    print('Using globally highly variable genes')\n",
    "    sc.pl.highly_variable_genes(adata)\n",
    "\n",
    "elif genes_for_pca == \"highly_variable_per_sample\":\n",
    "    sc.pp.highly_variable_genes(adata, batch_key = \"sample\")\n",
    "    print('Using highly variable genes per sample. This simple process avoids the selection of batch-specific genes and acts as a lightweight batch correction method.')\n",
    "    sc.pl.highly_variable_genes(adata)\n",
    "\n",
    "\n",
    "if cc_method == \"cc_genes_out\":\n",
    "    # adata.var[\"highly_variable\"] = False\n",
    "    # adata.var.loc[top_hvgs2.flatten(), \"highly_variable\"] = True\n",
    "    # adata.var.loc[diff.flatten() > 5, \"highly_variable\"] = False\n",
    "    adata.var.loc[discard.index[discard], \"highly_variable\"] = False\n",
    "    print('Removing cell cycle genes from highly variable genes')\n",
    "\n",
    "elif cc_method == \"regress_out\":\n",
    "    sc.pp.regress_out(adata, ['S_score', 'G2M_score'])\n",
    "    print('Regressing out cell cycle scores')\n",
    "\n",
    "elif cc_method == \"cc_difference_regressed_out\":\n",
    "    sc.pp.regress_out(adata, ['cell_cycle_diff'])\n",
    "    print('Regressing out cell cycle difference score')\n",
    "\n",
    "elif cc_method == \"None\":\n",
    "    print('Not removing cell cycle effects')"
   ]
  },
  {
   "cell_type": "markdown",
   "id": "1dcbe17a",
   "metadata": {},
   "source": [
    "# Dimensionality reduction"
   ]
  },
  {
   "cell_type": "code",
   "execution_count": null,
   "id": "21b18e7f",
   "metadata": {},
   "outputs": [],
   "source": [
    "# Plotting colors per category\n",
    "if len(adata.obs['sample'].cat.categories) == 15:\n",
    "    adata.uns[\"sample_colors\"] = ['#1f77b495', \n",
    "                                  '#ff7f0e95', \n",
    "                                  '#2ca02c95', \n",
    "                                  '#99ff6695', \n",
    "                                  '#00ff0095', \n",
    "                                  '#8c564b95', \n",
    "                                  '#e377c295', \n",
    "                                  '#ffff6695', \n",
    "                                  '#bcbd2295', \n",
    "                                  '#ff000095', \n",
    "                                  '#1f77b495',\n",
    "                                  '#ff7f0e95',\n",
    "                                  '#2ca02c95',\n",
    "                                  '#d6272895',\n",
    "                                  '#00ff9995']\n",
    "\n",
    "adata.uns[\"phase_colors\"] = ['#ff333370', '#00ff0070', '#0066ff70']\n",
    "adata.uns[\"week_colors\"] = ['#0066ff70', '#cc00ff70', '#ff993370', '#ff000070', '#00cc0070']\n",
    "adata.uns['treatment_colors'] = ['#3333cc70', '#00ff0070', '#ff000070']"
   ]
  },
  {
   "cell_type": "code",
   "execution_count": null,
   "id": "4d59d2ac",
   "metadata": {
    "execution": {
     "iopub.execute_input": "2025-02-04T15:38:59.457871Z",
     "iopub.status.busy": "2025-02-04T15:38:59.457463Z",
     "iopub.status.idle": "2025-02-04T15:40:02.916223Z",
     "shell.execute_reply": "2025-02-04T15:40:02.915265Z"
    },
    "papermill": {
     "duration": 63.46991,
     "end_time": "2025-02-04T15:40:02.918011",
     "exception": false,
     "start_time": "2025-02-04T15:38:59.448101",
     "status": "completed"
    },
    "tags": []
   },
   "outputs": [],
   "source": [
    "if cc_method == \"cPCA\":\n",
    "    if genes_for_pca == \"all\":\n",
    "        data = adata.X\n",
    "        bg = adata.X\n",
    "    else:\n",
    "        data = adata[:, adata.var['highly_variable']].X\n",
    "        bg = adata[adata.obs[\"week\"] == \"1\", adata.var['highly_variable']].X\n",
    "    \n",
    "    if not scale_data_before_pca: # convert to dense if needed\n",
    "        data = data.todense()\n",
    "        bg = bg.todense()\n",
    "else:\n",
    "    # dummy variables for R conversion\n",
    "    data = \"\"\n",
    "    bg = \"\""
   ]
  },
  {
   "cell_type": "code",
   "execution_count": null,
   "id": "8a4b9a22",
   "metadata": {},
   "outputs": [],
   "source": [
    "%load_ext rpy2.ipython"
   ]
  },
  {
   "cell_type": "code",
   "execution_count": null,
   "id": "926d38c8",
   "metadata": {},
   "outputs": [],
   "source": [
    "%%R -i data -i bg -i cc_method -i pca_n_components -o cpca\n",
    "if(cc_method == \"cPCA\") {\n",
    "    library(scPCA)\n",
    "    cpca = scPCA(\n",
    "                target=data,\n",
    "                background=bg,\n",
    "                penalties=0, \n",
    "                n_eigen=pca_n_components, \n",
    "                contrasts=200,\n",
    "                center = FALSE,\n",
    "                scale = FALSE\n",
    "                )$x\n",
    "} else {\n",
    "    cpca = NULL\n",
    "}"
   ]
  },
  {
   "cell_type": "code",
   "execution_count": null,
   "id": "37f5364b",
   "metadata": {},
   "outputs": [],
   "source": [
    "# are the counts still integers? (They should be)\n",
    "print(adata.X[0:5, 0:5])\n",
    "print(adata.layers['counts'][0:5, 0:5].todense())\n",
    "adata.raw[0:5, 0:5]"
   ]
  },
  {
   "cell_type": "markdown",
   "id": "409a022c",
   "metadata": {
    "papermill": {
     "duration": 0.01311,
     "end_time": "2025-02-04T15:40:02.985754",
     "exception": false,
     "start_time": "2025-02-04T15:40:02.972644",
     "status": "completed"
    },
    "tags": []
   },
   "source": [
    "## PCA plots"
   ]
  },
  {
   "cell_type": "code",
   "execution_count": null,
   "id": "11235017",
   "metadata": {},
   "outputs": [],
   "source": [
    "if cc_method == \"cPCA\":\n",
    "    adata.obsm[\"X_pca\"] = cpca\n",
    "else:\n",
    "    sc.tl.pca(adata, n_comps = pca_n_components, use_highly_variable = False if genes_for_pca == \"all\" else True)\n",
    "    sc.pl.pca_variance_ratio(adata, log=True, n_pcs = 100)\n",
    "    sc.pl.pca_loadings(adata)"
   ]
  },
  {
   "cell_type": "code",
   "execution_count": null,
   "id": "d0e377dc",
   "metadata": {
    "execution": {
     "iopub.execute_input": "2025-02-04T15:40:03.749720Z",
     "iopub.status.busy": "2025-02-04T15:40:03.749126Z",
     "iopub.status.idle": "2025-02-04T15:40:05.695951Z",
     "shell.execute_reply": "2025-02-04T15:40:05.695263Z"
    },
    "papermill": {
     "duration": 2.006775,
     "end_time": "2025-02-04T15:40:05.721037",
     "exception": false,
     "start_time": "2025-02-04T15:40:03.714262",
     "status": "completed"
    },
    "tags": []
   },
   "outputs": [],
   "source": [
    "plt.rcParams['figure.figsize']=(4,4) # rescale figures to reduce jupyter notebook size\n",
    "sc.pl.pca(adata, projection = \"2d\", \n",
    "          color = ['sample', 'log1p_total_counts', 'log1p_n_genes_by_counts', 'week', 'treatment', 'phase'],\n",
    "          wspace = 0.4)"
   ]
  },
  {
   "cell_type": "markdown",
   "id": "3fd2843e",
   "metadata": {
    "papermill": {
     "duration": 0.038599,
     "end_time": "2025-02-04T15:40:05.798874",
     "exception": false,
     "start_time": "2025-02-04T15:40:05.760275",
     "status": "completed"
    },
    "tags": []
   },
   "source": [
    "## UMAP plots"
   ]
  },
  {
   "cell_type": "code",
   "execution_count": null,
   "id": "1ef1488d",
   "metadata": {},
   "outputs": [],
   "source": [
    "try:\n",
    "    sc.pp.neighbors(adata, n_pcs=umap_n_neighbors)\n",
    "except Exception as e:\n",
    "    print(f\"Failed with n_pcs argument: {e}\")\n",
    "    sc.pp.neighbors(adata)\n",
    "sc.tl.umap(adata, n_components=2, min_dist=0.1, spread=5)"
   ]
  },
  {
   "cell_type": "markdown",
   "id": "676f8074",
   "metadata": {
    "papermill": {
     "duration": 0.063156,
     "end_time": "2025-02-04T15:44:05.085964",
     "exception": false,
     "start_time": "2025-02-04T15:44:05.022808",
     "status": "completed"
    },
    "tags": []
   },
   "source": [
    "### All samples"
   ]
  },
  {
   "cell_type": "code",
   "execution_count": null,
   "id": "b890c445",
   "metadata": {},
   "outputs": [],
   "source": [
    "sc.pl.umap(adata,\n",
    "          color = ['sample', 'log1p_total_counts', 'log1p_n_genes_by_counts', 'week', 'treatment', 'phase'],\n",
    "          wspace = 0.4)"
   ]
  },
  {
   "cell_type": "markdown",
   "id": "62713eea",
   "metadata": {
    "papermill": {
     "duration": 0.095002,
     "end_time": "2025-02-04T15:44:13.312237",
     "exception": false,
     "start_time": "2025-02-04T15:44:13.217235",
     "status": "completed"
    },
    "tags": []
   },
   "source": [
    "### Only week 1 of every treatment"
   ]
  },
  {
   "cell_type": "code",
   "execution_count": null,
   "id": "2cf14a8e",
   "metadata": {
    "execution": {
     "iopub.execute_input": "2025-02-04T15:44:13.510689Z",
     "iopub.status.busy": "2025-02-04T15:44:13.510014Z",
     "iopub.status.idle": "2025-02-04T15:44:13.685735Z",
     "shell.execute_reply": "2025-02-04T15:44:13.684804Z"
    },
    "papermill": {
     "duration": 0.281253,
     "end_time": "2025-02-04T15:44:13.689283",
     "exception": false,
     "start_time": "2025-02-04T15:44:13.408030",
     "status": "completed"
    },
    "tags": []
   },
   "outputs": [],
   "source": [
    "sc.pl.umap(adata[adata.obs[\"week\"] == \"1\"], color=[\"treatment\"])"
   ]
  },
  {
   "cell_type": "markdown",
   "id": "4fdea4e9",
   "metadata": {
    "papermill": {
     "duration": 0.102831,
     "end_time": "2025-02-04T15:44:13.908497",
     "exception": false,
     "start_time": "2025-02-04T15:44:13.805666",
     "status": "completed"
    },
    "tags": []
   },
   "source": [
    "Quantify differences between samples and save to a file to compare later."
   ]
  },
  {
   "cell_type": "code",
   "execution_count": null,
   "id": "a9b433af",
   "metadata": {
    "execution": {
     "iopub.execute_input": "2025-02-04T15:44:14.109615Z",
     "iopub.status.busy": "2025-02-04T15:44:14.109189Z",
     "iopub.status.idle": "2025-02-04T15:44:14.119754Z",
     "shell.execute_reply": "2025-02-04T15:44:14.118932Z"
    },
    "papermill": {
     "duration": 0.11169,
     "end_time": "2025-02-04T15:44:14.121625",
     "exception": false,
     "start_time": "2025-02-04T15:44:14.009935",
     "status": "completed"
    },
    "tags": []
   },
   "outputs": [],
   "source": [
    "from scipy.spatial.distance import pdist, squareform\n",
    "\n",
    "# Extract PCA coordinates\n",
    "pca_coords = adata.obsm[\"X_pca\"]\n",
    "\n",
    "# Compute centroids for each sample\n",
    "sample_centroids = np.array([\n",
    "    pca_coords[adata.obs[\"sample\"] == sample].mean(axis=0)\n",
    "    for sample in ['C_1', 'Conti_1', 'OnOff_1']\n",
    "])\n",
    "\n",
    "# Calculate pairwise distances (Euclidean)\n",
    "pca_distances = squareform(pdist(sample_centroids, metric='euclidean'))\n",
    "print(\"Pairwise Euclidean distances between samples:\")\n",
    "print(pca_distances)"
   ]
  },
  {
   "cell_type": "code",
   "execution_count": null,
   "id": "b93f77e4",
   "metadata": {
    "execution": {
     "iopub.execute_input": "2025-02-04T15:44:14.330839Z",
     "iopub.status.busy": "2025-02-04T15:44:14.330196Z",
     "iopub.status.idle": "2025-02-04T15:44:14.337305Z",
     "shell.execute_reply": "2025-02-04T15:44:14.336752Z"
    },
    "papermill": {
     "duration": 0.122375,
     "end_time": "2025-02-04T15:44:14.338670",
     "exception": false,
     "start_time": "2025-02-04T15:44:14.216295",
     "status": "completed"
    },
    "tags": []
   },
   "outputs": [],
   "source": [
    "from scipy.spatial.distance import pdist, squareform\n",
    "import numpy as np\n",
    "\n",
    "# Extract UMAP coordinates from the AnnData object\n",
    "umap_coords = adata.obsm[\"X_umap\"]\n",
    "\n",
    "# Compute centroids for each sample based on UMAP coordinates\n",
    "# samples = adata.obs[\"sample\"].unique()\n",
    "sample_centroids = np.array([\n",
    "    umap_coords[adata.obs[\"sample\"] == sample].mean(axis=0)\n",
    "    for sample in ['C_1', 'Conti_1', 'OnOff_1']\n",
    "])\n",
    "\n",
    "# Calculate pairwise distances using Euclidean metric\n",
    "umap_distances = squareform(pdist(sample_centroids, metric='euclidean'))\n",
    "print(\"Pairwise Euclidean distances between samples (UMAP centroids):\")\n",
    "print(umap_distances)"
   ]
  },
  {
   "cell_type": "code",
   "execution_count": null,
   "id": "eded9859",
   "metadata": {
    "execution": {
     "iopub.execute_input": "2025-02-04T15:44:14.577199Z",
     "iopub.status.busy": "2025-02-04T15:44:14.576650Z",
     "iopub.status.idle": "2025-02-04T15:44:14.655610Z",
     "shell.execute_reply": "2025-02-04T15:44:14.655049Z"
    },
    "papermill": {
     "duration": 0.222431,
     "end_time": "2025-02-04T15:44:14.656913",
     "exception": false,
     "start_time": "2025-02-04T15:44:14.434482",
     "status": "completed"
    },
    "tags": []
   },
   "outputs": [],
   "source": [
    "import os\n",
    "from datetime import datetime\n",
    "\n",
    "dd = umap_distances.flatten()\n",
    "# save as dataframe and add column names\n",
    "df = pd.DataFrame([[dd[1], dd[2], dd[5]]], columns=[\"Conti_1 vs C_1\", \"OnOff_1 vs C_1\", \"OnOff_1 vs Conti_1\"])\n",
    "# add column with umap\n",
    "df[\"dim_reduc_method\"] = [\"UMAP\"]\n",
    "\n",
    "# same with pca\n",
    "dd = pca_distances.flatten()\n",
    "# save as dataframe and add column names\n",
    "df_pca = pd.DataFrame([[dd[1], dd[2], dd[5]]], columns=[\"Conti_1 vs C_1\", \"OnOff_1 vs C_1\", \"OnOff_1 vs Conti_1\"])\n",
    "# add column with pca\n",
    "df_pca[\"dim_reduc_method\"] = [\"PCA\"]\n",
    "\n",
    "# combine both dataframes\n",
    "df = pd.concat([df, df_pca], axis=0)\n",
    "\n",
    "# add a column with current date and time\n",
    "df[\"date\"] = datetime.now()\n",
    "\n",
    "# add columns with parameters used in this notebook\n",
    "df[\"input_file\"] = input_file\n",
    "df[\"normalization\"] = normalization\n",
    "df[\"scale_data_before_pca\"] = scale_data_before_pca\n",
    "df[\"genes_for_pca\"] = genes_for_pca\n",
    "df[\"cc_method\"] = cc_method\n",
    "df[\"pca_n_components\"] = pca_n_components\n",
    "df[\"umap_n_neighbors\"] = umap_n_neighbors\n",
    "\n",
    "# save to tsv\n",
    "# if file does not exist yet, create it and add header\n",
    "# if the file already exists, append to it\n",
    "# replace the file if the date if different by more than 1 day\n",
    "\n",
    "try:\n",
    "   tsv_file\n",
    "except NameError:\n",
    "    tsv_file = \"/data/cephfs-1/home/users/cemo10_c/work/scRNA/scRNA_preprocessing_pipeline/results/analysis/umap_pca_distances.tsv\"\n",
    "\n",
    "if not os.path.exists(tsv_file):\n",
    "    df.to_csv(tsv_file, sep = \"\\t\", index = False)\n",
    "else:\n",
    "    df_old = pd.read_csv(tsv_file, sep = \"\\t\")\n",
    "    print(df_old[\"date\"].max())\n",
    "    print(datetime.strptime(df_old[\"date\"].max(), '%Y-%m-%d %H:%M:%S.%f'))\n",
    "    print((pd.Timestamp.now() - datetime.strptime(df_old[\"date\"].min(), '%Y-%m-%d %H:%M:%S.%f')).days)\n",
    "    if (pd.Timestamp.now() - datetime.strptime(df_old[\"date\"].min(), '%Y-%m-%d %H:%M:%S.%f')).days >= 1:\n",
    "        df.to_csv(tsv_file, sep = \"\\t\", index = False)\n",
    "    else:\n",
    "        df.to_csv(tsv_file, sep = \"\\t\", index = False, mode = \"a\", header = False)"
   ]
  },
  {
   "cell_type": "markdown",
   "id": "604f2de7",
   "metadata": {
    "papermill": {
     "duration": 0.094869,
     "end_time": "2025-02-04T15:44:14.845706",
     "exception": false,
     "start_time": "2025-02-04T15:44:14.750837",
     "status": "completed"
    },
    "tags": []
   },
   "source": [
    "### All treatments separately"
   ]
  },
  {
   "cell_type": "code",
   "execution_count": null,
   "id": "c1a1d2e5",
   "metadata": {
    "execution": {
     "iopub.execute_input": "2025-02-04T15:44:15.039054Z",
     "iopub.status.busy": "2025-02-04T15:44:15.038399Z",
     "iopub.status.idle": "2025-02-04T15:44:17.080378Z",
     "shell.execute_reply": "2025-02-04T15:44:17.078464Z"
    },
    "papermill": {
     "duration": 2.14625,
     "end_time": "2025-02-04T15:44:17.088268",
     "exception": false,
     "start_time": "2025-02-04T15:44:14.942018",
     "status": "completed"
    },
    "tags": []
   },
   "outputs": [],
   "source": [
    "split_dim_plot(adata, 'treatment', \"umap\", color='week', ncol=5)"
   ]
  },
  {
   "cell_type": "markdown",
   "id": "22e34218",
   "metadata": {
    "papermill": {
     "duration": 0.249136,
     "end_time": "2025-02-04T15:44:17.449148",
     "exception": false,
     "start_time": "2025-02-04T15:44:17.200012",
     "status": "completed"
    },
    "tags": []
   },
   "source": [
    "### Only week 1 and 5 of the OnOff treatment"
   ]
  },
  {
   "cell_type": "code",
   "execution_count": null,
   "id": "ee1132fb",
   "metadata": {
    "execution": {
     "iopub.execute_input": "2025-02-04T15:44:17.675392Z",
     "iopub.status.busy": "2025-02-04T15:44:17.674995Z",
     "iopub.status.idle": "2025-02-04T15:44:17.807028Z",
     "shell.execute_reply": "2025-02-04T15:44:17.806413Z"
    },
    "papermill": {
     "duration": 0.246732,
     "end_time": "2025-02-04T15:44:17.809120",
     "exception": false,
     "start_time": "2025-02-04T15:44:17.562388",
     "status": "completed"
    },
    "tags": []
   },
   "outputs": [],
   "source": [
    "# subset only treatment OnOff weeks 1 and 5\n",
    "adata_sub = adata[adata.obs[\"treatment\"] == \"OnOff\"]\n",
    "adata_sub = adata_sub[adata_sub.obs[\"week\"].isin([\"1\", \"5\"])]\n",
    "sc.pl.umap(adata_sub, color=[\"week\"], palette = [\"#1f77b4\", \"#ff7f0e\"])\n",
    "del adata_sub"
   ]
  },
  {
   "cell_type": "markdown",
   "id": "15926f3e",
   "metadata": {
    "papermill": {
     "duration": 0.109899,
     "end_time": "2025-02-04T15:44:18.025264",
     "exception": false,
     "start_time": "2025-02-04T15:44:17.915365",
     "status": "completed"
    },
    "tags": []
   },
   "source": [
    "### All samples separately"
   ]
  },
  {
   "cell_type": "code",
   "execution_count": null,
   "id": "4fe6806a",
   "metadata": {
    "execution": {
     "iopub.execute_input": "2025-02-04T15:44:18.249995Z",
     "iopub.status.busy": "2025-02-04T15:44:18.249367Z",
     "iopub.status.idle": "2025-02-04T15:44:27.439613Z",
     "shell.execute_reply": "2025-02-04T15:44:27.438821Z"
    },
    "papermill": {
     "duration": 9.327954,
     "end_time": "2025-02-04T15:44:27.463832",
     "exception": false,
     "start_time": "2025-02-04T15:44:18.135878",
     "status": "completed"
    },
    "tags": []
   },
   "outputs": [],
   "source": [
    "split_dim_plot(adata, 'sample', \"umap\", color = 'phase', ncol = 5)"
   ]
  },
  {
   "cell_type": "markdown",
   "id": "13ddc540",
   "metadata": {
    "papermill": {
     "duration": 0.13525,
     "end_time": "2025-02-04T15:44:27.738701",
     "exception": false,
     "start_time": "2025-02-04T15:44:27.603451",
     "status": "completed"
    },
    "tags": []
   },
   "source": [
    "### Only week 5 of control and OnOff treatment"
   ]
  },
  {
   "cell_type": "code",
   "execution_count": null,
   "id": "c35915eb",
   "metadata": {
    "execution": {
     "iopub.execute_input": "2025-02-04T15:44:27.999823Z",
     "iopub.status.busy": "2025-02-04T15:44:27.999380Z",
     "iopub.status.idle": "2025-02-04T15:44:28.160142Z",
     "shell.execute_reply": "2025-02-04T15:44:28.159405Z"
    },
    "papermill": {
     "duration": 0.292915,
     "end_time": "2025-02-04T15:44:28.161738",
     "exception": false,
     "start_time": "2025-02-04T15:44:27.868823",
     "status": "completed"
    },
    "tags": []
   },
   "outputs": [],
   "source": [
    "adata_sub2 = adata[adata.obs[\"week\"] == \"5\"]\n",
    "adata_sub2 = adata_sub2[adata_sub2.obs[\"treatment\"].isin([\"Control\", \"OnOff\"])]\n",
    "sc.pl.umap(adata_sub2, color = ['treatment'])\n",
    "del adata_sub2"
   ]
  },
  {
   "cell_type": "markdown",
   "id": "15827eb1",
   "metadata": {
    "papermill": {
     "duration": 0.142763,
     "end_time": "2025-02-04T15:44:28.436874",
     "exception": false,
     "start_time": "2025-02-04T15:44:28.294111",
     "status": "completed"
    },
    "tags": []
   },
   "source": [
    "Quantify differences between samples and save to a file to compare later."
   ]
  },
  {
   "cell_type": "code",
   "execution_count": null,
   "id": "5608974e",
   "metadata": {
    "execution": {
     "iopub.execute_input": "2025-02-04T15:44:28.702750Z",
     "iopub.status.busy": "2025-02-04T15:44:28.702379Z",
     "iopub.status.idle": "2025-02-04T15:44:28.740958Z",
     "shell.execute_reply": "2025-02-04T15:44:28.740246Z"
    },
    "papermill": {
     "duration": 0.171896,
     "end_time": "2025-02-04T15:44:28.742470",
     "exception": false,
     "start_time": "2025-02-04T15:44:28.570574",
     "status": "completed"
    },
    "tags": []
   },
   "outputs": [],
   "source": [
    "from scipy.spatial.distance import pdist, squareform\n",
    "\n",
    "# Extract PCA coordinates\n",
    "pca_coords = adata.obsm[\"X_pca\"]\n",
    "\n",
    "# Compute centroids for each sample\n",
    "sample_centroids = np.array([\n",
    "    pca_coords[adata.obs[\"sample\"] == sample].mean(axis=0)\n",
    "    for sample in ['OnOff_1', 'OnOff_5']\n",
    "])\n",
    "\n",
    "# Calculate pairwise distances (Euclidean)\n",
    "pca_distances = pdist(sample_centroids, metric='euclidean')\n",
    "print(\"Pairwise Euclidean distances between samples:\")\n",
    "print(pca_distances)\n",
    "\n",
    "from scipy.spatial.distance import pdist, squareform\n",
    "import numpy as np\n",
    "\n",
    "# Extract UMAP coordinates from the AnnData object\n",
    "umap_coords = adata.obsm[\"X_umap\"]\n",
    "\n",
    "# Compute centroids for each sample based on UMAP coordinates\n",
    "# samples = adata.obs[\"sample\"].unique()\n",
    "sample_centroids = np.array([\n",
    "    umap_coords[adata.obs[\"sample\"] == sample].mean(axis=0)\n",
    "    for sample in ['OnOff_1', 'OnOff_5']\n",
    "])\n",
    "\n",
    "# Calculate pairwise distances using Euclidean metric\n",
    "umap_distances = pdist(sample_centroids, metric='euclidean')\n",
    "print(\"Pairwise Euclidean distances between samples (UMAP centroids):\")\n",
    "print(umap_distances)\n",
    "\n",
    "import os\n",
    "from datetime import datetime\n",
    "\n",
    "dd = umap_distances.flatten()\n",
    "# save as dataframe and add column names\n",
    "df = pd.DataFrame([dd], columns=[\"OnOff_1 vs OnOff_5\"])\n",
    "# add column with umap\n",
    "df[\"dim_reduc_method\"] = [\"UMAP\"]\n",
    "\n",
    "# same with pca\n",
    "dd = pca_distances.flatten()\n",
    "# save as dataframe and add column names\n",
    "df_pca = pd.DataFrame([dd], columns=[\"OnOff_1 vs OnOff_5\"])\n",
    "# add column with pca\n",
    "df_pca[\"dim_reduc_method\"] = [\"PCA\"]\n",
    "\n",
    "# combine both dataframes\n",
    "df = pd.concat([df, df_pca], axis=0)\n",
    "\n",
    "# add a column with current date and time\n",
    "df[\"date\"] = datetime.now()\n",
    "\n",
    "# add columns with parameters used in this notebook\n",
    "df[\"input_file\"] = input_file\n",
    "df[\"normalization\"] = normalization\n",
    "df[\"scale_data_before_pca\"] = scale_data_before_pca\n",
    "df[\"genes_for_pca\"] = genes_for_pca\n",
    "df[\"cc_method\"] = cc_method\n",
    "df[\"pca_n_components\"] = pca_n_components\n",
    "df[\"umap_n_neighbors\"] = umap_n_neighbors\n",
    "\n",
    "\n",
    "# save to tsv\n",
    "# if file does not exist yet, create it and add header\n",
    "# if the file already exists, append to it\n",
    "# replace the file if the date if different by more than 1 day\n",
    "\n",
    "import re\n",
    "\n",
    "tsv_file2 = re.sub(\"week1_samples\", \"week1_and_5_onoff_samples.tsv\", tsv_file)\n",
    "\n",
    "if not os.path.exists(tsv_file2):\n",
    "    df.to_csv(tsv_file2, sep = \"\\t\", index = False)\n",
    "else:\n",
    "    df_old = pd.read_csv(tsv_file2, sep = \"\\t\")\n",
    "    print(df_old[\"date\"].max())\n",
    "    print(datetime.strptime(df_old[\"date\"].max(), '%Y-%m-%d %H:%M:%S.%f'))\n",
    "    print((pd.Timestamp.now() - datetime.strptime(df_old[\"date\"].min(), '%Y-%m-%d %H:%M:%S.%f')).days)\n",
    "    if (pd.Timestamp.now() - datetime.strptime(df_old[\"date\"].min(), '%Y-%m-%d %H:%M:%S.%f')).days >= 1:\n",
    "        df.to_csv(tsv_file2, sep = \"\\t\", index = False)\n",
    "    else:\n",
    "        df.to_csv(tsv_file2, sep = \"\\t\", index = False, mode = \"a\", header = False)"
   ]
  },
  {
   "cell_type": "markdown",
   "id": "2d53d864",
   "metadata": {},
   "source": [
    "### Test out different UMAP parameters"
   ]
  },
  {
   "cell_type": "code",
   "execution_count": null,
   "id": "a2b52bec",
   "metadata": {},
   "outputs": [],
   "source": [
    "from itertools import product\n",
    "\n",
    "# Copy adata not to modify UMAP in the original adata object\n",
    "adata_temp = adata.copy()\n",
    "# Loop through different umap parameters, recomputting and replotting UMAP for each of them\n",
    "MIN_DISTS = [0.1, 1, 2]\n",
    "SPREADS = [0.5, 1, 5]\n",
    "# Create grid of plots, with a little extra room for the legends\n",
    "fig, axes = plt.subplots(\n",
    "    len(MIN_DISTS), len(SPREADS), figsize=(len(SPREADS) * 3 + 2, len(MIN_DISTS) * 3)\n",
    ")\n",
    "\n",
    "for (i, min_dist), (j, spread) in product(enumerate(MIN_DISTS), enumerate(SPREADS)):\n",
    "    ax = axes[i][j]\n",
    "    param_str = \" \".join([\"min_dist =\", str(min_dist), \"and spread =\", str(spread)])\n",
    "    # Recompute UMAP with new parameters\n",
    "    sc.tl.umap(adata_temp, min_dist=min_dist, spread=spread)\n",
    "    # Create plot, placing it in grid\n",
    "    sc.pl.umap(\n",
    "        adata_temp,\n",
    "        color=[\"phase\"],\n",
    "        title=param_str,\n",
    "        # s=40,\n",
    "        ax=ax,\n",
    "        show=False,\n",
    "    )\n",
    "plt.tight_layout()\n",
    "plt.show()\n",
    "plt.close()\n",
    "del adata_temp"
   ]
  },
  {
   "cell_type": "markdown",
   "id": "6e4a5249",
   "metadata": {},
   "source": [
    "## t-SNE plots"
   ]
  },
  {
   "cell_type": "code",
   "execution_count": null,
   "id": "5107a35e",
   "metadata": {},
   "outputs": [],
   "source": [
    "try:\n",
    "    sc.tl.tsne(adata, n_pcs = 50)\n",
    "except Exception as e:\n",
    "    print(f\"Failed with n_pcs argument: {e}\")\n",
    "    sc.tl.tsne(adata)\n",
    "sc.pl.tsne(adata, color = 'phase')"
   ]
  },
  {
   "cell_type": "code",
   "execution_count": null,
   "id": "d59a60b9",
   "metadata": {},
   "outputs": [],
   "source": [
    "split_dim_plot(adata, 'sample', \"tsne\", color = 'phase', ncol = 5)"
   ]
  },
  {
   "cell_type": "markdown",
   "id": "04e93da1",
   "metadata": {},
   "source": [
    "## Diffusion maps"
   ]
  },
  {
   "cell_type": "code",
   "execution_count": null,
   "id": "564bf79d",
   "metadata": {},
   "outputs": [],
   "source": [
    "sc.tl.diffmap(adata)\n",
    "sc.pl.diffmap(adata, color='phase', components=['1,2','1,3'])"
   ]
  },
  {
   "cell_type": "markdown",
   "id": "05a1bb28",
   "metadata": {},
   "source": [
    "# Save results"
   ]
  },
  {
   "cell_type": "code",
   "execution_count": null,
   "id": "813e6298",
   "metadata": {},
   "outputs": [],
   "source": [
    "if save_adata:\n",
    "    adata.write(output_file)"
   ]
  },
  {
   "cell_type": "code",
   "execution_count": null,
   "id": "4b065591",
   "metadata": {},
   "outputs": [],
   "source": [
    "# save key figures for comparison with other methods\n",
    "# from https://github.com/scverse/scanpy/issues/1508#issuecomment-734657400\n",
    "\n",
    "with plt.rc_context():  # Use this to set figure params like size and dpi\n",
    "    for embedding in [\"pca\", \"umap\", \"tsne\"]:\n",
    "        for color_by in ['sample', 'week', 'treatment', 'phase']:\n",
    "            sc.pl.embedding(adata, basis=embedding, color=color_by, wspace=0.4, show=False)\n",
    "            plt.savefig(figures_path + \"-\" + embedding + \"-combined-\" + color_by + \".jpg\")\n",
    "            plt.close()\n",
    "\n",
    "        split_dim_plot(adata, 'sample', embedding, color='phase', ncol=5)\n",
    "        plt.savefig(figures_path + \"-\" + embedding + \"-per_sample-\" + color_by + \".jpg\")\n",
    "        plt.close()"
   ]
  },
  {
   "cell_type": "code",
   "execution_count": null,
   "id": "37964952",
   "metadata": {},
   "outputs": [],
   "source": [
    "# are the counts still integers? (They should be)\n",
    "print(adata.X[0:5, 0:5])\n",
    "print(adata.layers['counts'][0:5, 0:5].todense())\n",
    "adata.raw[0:5, 0:5]"
   ]
  }
 ],
 "metadata": {
  "kernelspec": {
   "display_name": "scpca",
   "language": "python",
   "name": "python3"
  },
  "language_info": {
   "codemirror_mode": {
    "name": "ipython",
    "version": 3
   },
   "file_extension": ".py",
   "mimetype": "text/x-python",
   "name": "python",
   "nbconvert_exporter": "python",
   "pygments_lexer": "ipython3",
   "version": "3.12.8"
  },
  "papermill": {
   "default_parameters": {},
   "duration": 519.762067,
   "end_time": "2025-02-04T15:44:33.149921",
   "environment_variables": {},
   "exception": null,
   "input_path": "workflow/notebooks/merged_dim_reduc_diff_params.ipynb",
   "output_path": "results/analysis/subset/dim_reduc/log1p_norm_of_soupX_counts__False__highly_variable_per_sample__cc_genes_out__50__30.ipynb",
   "parameters": {
    "cc_method": "cc_genes_out",
    "genes_for_pca": "highly_variable_per_sample",
    "input_file": "results/preprocessing/subset.h5ad",
    "normalization": "log1p_norm_of_soupX_counts",
    "pca_n_components": 50,
    "scale_data_before_pca": false,
    "tsv_file": "results/analysis/subset/dim_reduc/distances_between_week1_samples.tsv",
    "umap_n_neighbors": 30
   },
   "start_time": "2025-02-04T15:35:53.387854",
   "version": "2.6.0"
  }
 },
 "nbformat": 4,
 "nbformat_minor": 5
}
