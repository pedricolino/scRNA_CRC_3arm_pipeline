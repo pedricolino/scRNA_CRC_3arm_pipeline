{
 "cells": [
  {
   "cell_type": "markdown",
   "id": "eceea5f9-1817-43b8-9e2f-3eb2bf8a1688",
   "metadata": {
    "tags": []
   },
   "source": [
    "# Quality Control"
   ]
  },
  {
   "cell_type": "markdown",
   "id": "0b55b79e",
   "metadata": {},
   "source": [
    "## Motivation"
   ]
  },
  {
   "cell_type": "markdown",
   "id": "1f851cc9",
   "metadata": {},
   "source": [
    "Single-cell RNA-seq datasets have two important properties that one should have in mind when performing an analysis.\n",
    "Firstly, scRNA-seq data is drop-out meaning that there is an excessive number of zeros in the data due to limiting mRNA.\n",
    "Secondly, the potential for correcting the data and performing quality control might be limited as the data may be confounded with biology.\n",
    "It is therefore crucial to select preprocessing methods that are suited to the underlying data without overcorrecting or removing biological effects.\n",
    "\n",
    "The set of tools for the analysis of single-cell {term}`RNA`-sequencing data is evolving fast due to new sequencing technologies and a growing number of captured cells, measured genes and identified cell populations {cite}`qc:Zappia2021`.\n",
    "Many of these tools are dedicated to preprocessing which aims to address the following analysis steps: doublet detection, quality control, normalization, feature selection, and dimensionality reduction.\n",
    "The tools selected throughout this chapter can heavily affect downstream analysis and interpretation of the data.\n",
    "For example, if you filter out too many cells during quality control, you might lose rare cell subpopulations and miss insight into interesting cell biology.\n",
    "Whereas if you are too permissive, you might have a hard time annotating your cells if you did not exclude poor quality cells in your preprocessing pipeline.\n",
    "Therefore, it is important to select tools that provide a best practice and that proved to outperform other tools with respect to downstream tasks.\n",
    "In many cases, you will still have to re-assess your preprocessing analysis and change, for example, the filtering strategy.\n",
    "\n",
    "The starting point of this notebook is single-cell data that has been processed as previously described in the raw processing chapter.\n",
    "The data was aligned to obtain matrices of molecular counts, the so-called count matrices, or read counts (read matrices).\n",
    "The difference between count and read matrices depends on whether unique molecular identifiers (UMIs) were included in the single-cell library construction protocol.\n",
    "Read and count matrices have the dimension number of barcodes x number of transcripts.\n",
    "It is important to note that the term \"barcode\" is used here instead of \"cell\" as a barcode might wrongly have tagged multiple cells (doublet) or might have not tagged any cell (empty droplet/well).\n",
    "We will elaborate more on this in the section \"Doublet detection\"."
   ]
  },
  {
   "cell_type": "markdown",
   "id": "d4b4ab90",
   "metadata": {},
   "source": [
    "## Environment setup and data\n"
   ]
  },
  {
   "cell_type": "markdown",
   "id": "6e694d02",
   "metadata": {},
   "source": [
    "Although single-cell count matrix preprocessing is generally a rather linear process where various quality control and preprocessing steps are conducted in a clear order, the introduction of specific steps here requires us to sometimes jump ahead to steps that we are going to introduce in one of the later subchapters. For example, we make use of clustering for the ambient RNA correction, but will only introduce clustering later."
   ]
  },
  {
   "cell_type": "markdown",
   "id": "a95b6b87",
   "metadata": {},
   "source": [
    "As a first step, we first load the dataset with scanpy which is hosted on figshare."
   ]
  },
  {
   "cell_type": "code",
   "execution_count": 5,
   "id": "9afa9c69-1dc8-4144-b2aa-48c093933185",
   "metadata": {},
   "outputs": [],
   "source": [
    "import numpy as np\n",
    "import scanpy as sc\n",
    "import seaborn as sns\n",
    "from scipy.stats import median_abs_deviation\n",
    "\n",
    "sc.settings.verbosity = 0\n",
    "sc.settings.set_figure_params(\n",
    "    dpi=80,\n",
    "    facecolor=\"white\",\n",
    "    frameon=False,\n",
    ")"
   ]
  },
  {
   "cell_type": "code",
   "execution_count": null,
   "id": "6f038e2f",
   "metadata": {},
   "outputs": [],
   "source": [
    "# print working directory\n",
    "import os\n",
    "print(os.getcwd())\n"
   ]
  },
  {
   "cell_type": "code",
   "execution_count": null,
   "id": "5f230a92-7d94-48b0-9642-03bb8437e127",
   "metadata": {
    "tags": [
     "parameters"
    ]
   },
   "outputs": [],
   "source": [
    "# This cell is tagged 'parameters' so that the tool Papermill can replace the parameters with SnakeMake variables\n",
    "# The values defined here are just placeholders and will be overwritten.\n",
    "# However, they are useful for interactively testing and debugging the notebook in a Jupyter environment. \n",
    "input_file = '/data/cephfs-1/work/projects/crc-patients-treatment-and-relapse/work/scRNA/raw_data/CE_SC_C_1/count/sample_filtered_feature_bc_matrix.h5'\n",
    "output_dir = './'"
   ]
  },
  {
   "cell_type": "code",
   "execution_count": null,
   "id": "da52c05f-77a4-48f8-a45a-e8de6ab0756a",
   "metadata": {},
   "outputs": [],
   "source": [
    "adata = sc.read_10x_h5(input_file)\n",
    "adata"
   ]
  },
  {
   "cell_type": "markdown",
   "id": "173e65ca-a224-45b6-97e5-9b75725fc9b2",
   "metadata": {},
   "source": [
    "After reading the data, scanpy displays a warning that not all variable names are unique. This indicates that some variables (=genes) appear more than once which can lead to errors or unintended behavior for downstream analysis tasks. We execute the proposed function `var_names_make_unique()` which makes the variable name unique by appending a number string to each duplicate index element: ‘1’, ‘2’, etc. "
   ]
  },
  {
   "cell_type": "code",
   "execution_count": null,
   "id": "b302251e-6bee-4968-ac2f-2952eea7b46d",
   "metadata": {},
   "outputs": [],
   "source": [
    "adata.var_names_make_unique()\n",
    "adata.raw = adata.copy()"
   ]
  },
  {
   "cell_type": "markdown",
   "id": "e743203d-a6d1-4abd-b7ff-89f1a2ddc088",
   "metadata": {},
   "source": [
    "The dataset has the shape `n_obs` x `n_vars`. This translates into `barcodes x number of transcripts`. We additionally inspect further information in `.var` in terms of gene_ids (Ensembl Id), feature_types and genome. \n",
    "\n",
    "Most subsequent analysis tasks assume that each observation in the dataset represents measurements from one intact single-cell. In some cases, this assumption can be violated through low-quality cells, contamination of cell-free RNA or doublets. This tutorial will guide you on how to correct and remove this violations and obtain a high-quality dataset.\n",
    "\n",
    ":::{figure-md} Quality control\n",
    "\n",
    "<img src=\"https://www.sc-best-practices.org/_images/quality_control.jpeg\" alt=\"Ambient RNA Overview\" class=\"bg-primary mb-1\" width=\"800px\">\n",
    "\n",
    "Single-cell RNA-seq datasets can contain low-quality cells, cell-free RNA and doublets. Quality control aims to remove and correct for those to obtain a high-quality dataset where each observation is an intact single cell. \n",
    "\n",
    ":::"
   ]
  },
  {
   "cell_type": "markdown",
   "id": "cb995c17-145c-4afa-bf4f-86d0842d478c",
   "metadata": {},
   "source": [
    "## Filtering low quality cells\n",
    "\n",
    "The first step in quality control is to remove low-quality cells from the dataset. When a cell has a low number of detected genes, a low count depth and a high fraction of mitochondrial counts it might have a broken membrane which can indicate a dying cell. As these cells are usually not the main target of our analysis and might distort our downstream analysis, we are removing them during quality control. For identifying them, we define cell quality control (QC) threshold. Cell QC is typically performed on the following three QC covariates:\n",
    "\n",
    "1. The number of counts per barcode (count depth)\n",
    "2. The number of genes per barcode\n",
    "3. The fraction of counts from mitochondrial genes per barcode\n",
    "\n",
    "In cell QC these covariates are filtered via thresholding as they might correspond to dying cells. As indicated, they might reflect cells with broken membranes whose cytoplasmic mRNA has leaked out and therefore only the mRNA in the mitochondria is still present. These cells might then show a low count depth, few detected genes and a high fraction of mitochondrial reads. It is, however, crucial to consider the three QC covariates jointly as otherwise it might lead to misinterpretation of cellular signals. Cells with a relatively high fraction of mitochondrial counts might for example be involved in respiratory processes and should not be filtered out. Whereas, cells with low or high counts might correspond to quiescent cell populations or cells larger in size. It is therefore preferred to consider multiple covariates when thresholding decisions on single covariates are made. In general, it is advised to exclude fewer cells and be as permissive as possible to avoid filtering out viable cell populations or small sub-populations.\n",
    "\n",
    "QC on only a few or small datasets is often performed in a manual fashion by looking at the distribution of different QC covariates and identifying outlier which will be filtered afterwards. However, as datasets grow in size this task is becoming more and more time-consuming and it might be worth considering automatic thresholding via MAD (median absolute deviations). The MAD is given by $MAD = median(|X_i - median(X)|)$ with $X_i$ being the respective QC metric of an observation and describes a robust statistic of the variability of the metric. Similar to {cite}`qc:germain_pipecomp_2020`, we mark cells as outliers if they differ by 5 MADs which is a relatively permissive filtering strategy. We want to highlight that it might be reasonable to re-assess the filtering after annotation of cells.\n",
    "\n",
    "In QC, the first step is to calculate the QC covariates or metric. We compute these using the scanpy function `sc.pp.calculate_qc_metrics`, which can also calculate the proportions of counts for specific gene populations. We therefore define mitochondrial, ribosomal and hemoglobin genes. It is important to note that mitochondrial counts are annotated either with the prefix \"mt-\" or \"MT-'' depending on the species considered in the dataset. Mitochondrial counts are annotated with the prefix \"MT-\" for human datasets. For mouse datasets, the prefix is usually lower case, so \"mt-\".\n"
   ]
  },
  {
   "cell_type": "code",
   "execution_count": 10,
   "id": "7937b1bf-e3e4-48af-a272-43982e05101b",
   "metadata": {},
   "outputs": [],
   "source": [
    "# mitochondrial genes\n",
    "adata.var[\"mt\"] = adata.var_names.str.startswith(\"MT-\")\n",
    "# ribosomal genes\n",
    "adata.var[\"ribo\"] = adata.var_names.str.startswith((\"RPS\", \"RPL\"))\n",
    "# hemoglobin genes.\n",
    "adata.var[\"hb\"] = adata.var_names.str.contains((\"^HB[^(P)]\"))"
   ]
  },
  {
   "cell_type": "markdown",
   "id": "8bbe4870-0afb-4e92-9d78-3b42097814d1",
   "metadata": {},
   "source": [
    "We can now calculate the respective QC metrics with scanpy. "
   ]
  },
  {
   "cell_type": "code",
   "execution_count": null,
   "id": "ae3bb115-50ad-43c1-8050-4dc383c4675b",
   "metadata": {},
   "outputs": [],
   "source": [
    "sc.pp.calculate_qc_metrics(\n",
    "    adata, qc_vars=[\"mt\", \"ribo\", \"hb\"], inplace=True, percent_top=[20], log1p=True\n",
    ")\n",
    "adata"
   ]
  },
  {
   "cell_type": "markdown",
   "id": "a9c2182e-cd96-4aef-92dc-b270ac6c3c64",
   "metadata": {},
   "source": [
    "As we can see, the function added a couple of additional columns to `.var` and `.obs`. We want to highlight a few of them here, more information on the different metrics can be found in the scanpy documentation:\n",
    "\n",
    "* `n_genes_by_counts` in `.obs` is the number of genes with positive counts in a cell,\n",
    "* `total_counts` is the total number of counts for a cell, this might also be known as library size, and\n",
    "* `pct_counts_mt` is the proportion of total counts for a cell which are mitochondrial.\n",
    "\n",
    "We now plot the three QC covariates `n_genes_by_counts`, `total_counts` and `pct_counts_mt` per sample to assess how well the respective cells were captured. "
   ]
  },
  {
   "cell_type": "code",
   "execution_count": null,
   "id": "d0f7572f-23cf-4e35-8401-42b0f215f696",
   "metadata": {},
   "outputs": [],
   "source": [
    "p1 = sns.displot(adata.obs[\"total_counts\"], bins=100, kde=False)\n",
    "# sc.pl.violin(adata, 'total_counts')\n",
    "p2 = sc.pl.violin(adata, \"pct_counts_mt\")\n",
    "p3 = sc.pl.scatter(adata, \"total_counts\", \"n_genes_by_counts\", color=\"pct_counts_mt\")"
   ]
  },
  {
   "cell_type": "markdown",
   "id": "8ab11c43-396e-43b4-b247-c2d9e70b3ab6",
   "metadata": {},
   "source": [
    "The plots indicate that some cells have a relatively high percentage of mitochondrial counts which are often associated with cell degradation. But since number of counts per cell is sufficiently high and percentage of mitochondrial reads is for most cells below 20 % we can still process the data. Based on these plots, one could now also define manual thresholds for filtering cells. Instead, we will show QC with automatic thresholding and filtering based on MAD.\n",
    "\n",
    "First, we define a function that takes a `metric`, i.e. a column in `.obs` and the number of MADs (`nmad`) that is still permissive within the filtering strategy. "
   ]
  },
  {
   "cell_type": "code",
   "execution_count": 13,
   "id": "c206be80-ae4c-4bb1-b54b-5da21fb476cb",
   "metadata": {},
   "outputs": [],
   "source": [
    "def is_outlier(adata, metric: str, nmads: int):\n",
    "    M = adata.obs[metric]\n",
    "    outlier = (M < np.median(M) - nmads * median_abs_deviation(M)) | (\n",
    "        np.median(M) + nmads * median_abs_deviation(M) < M\n",
    "    )\n",
    "    return outlier"
   ]
  },
  {
   "cell_type": "markdown",
   "id": "25918875-545f-4bd6-9b0c-79a37ff68e86",
   "metadata": {},
   "source": [
    "We now apply this function to the `log1p_total_counts`, `log1p_n_genes_by_counts` and `pct_counts_in_top_20_genes` QC covariates each with a threshold of 5 MADs."
   ]
  },
  {
   "cell_type": "code",
   "execution_count": null,
   "id": "284197bb-4fd5-4725-9a11-405d4400fb5f",
   "metadata": {},
   "outputs": [],
   "source": [
    "adata.obs[\"outlier\"] = (\n",
    "    is_outlier(adata, \"log1p_total_counts\", 5)\n",
    "    | is_outlier(adata, \"log1p_n_genes_by_counts\", 5)\n",
    "    | is_outlier(adata, \"pct_counts_in_top_20_genes\", 5)\n",
    ")\n",
    "adata.obs.outlier.value_counts()"
   ]
  },
  {
   "cell_type": "markdown",
   "id": "8a975c59-a91e-4449-972f-a9b6b2526225",
   "metadata": {},
   "source": [
    "`pct_counts_Mt` is filtered with 3 MADs. Additionally, cells with a percentage of mitochondrial counts exceeding 8 % are filtered out."
   ]
  },
  {
   "cell_type": "code",
   "execution_count": null,
   "id": "13ea0df9-d5a8-4b36-b7da-4bc31c610ff1",
   "metadata": {},
   "outputs": [],
   "source": [
    "adata.obs[\"mt_outlier\"] = is_outlier(adata, \"pct_counts_mt\", 3) | (\n",
    "    adata.obs[\"pct_counts_mt\"] > 8\n",
    ")\n",
    "adata.obs.mt_outlier.value_counts()"
   ]
  },
  {
   "cell_type": "markdown",
   "id": "d44d44a2-57ec-4628-9e68-93deb3370b58",
   "metadata": {
    "tags": []
   },
   "source": [
    "## Correction of ambient RNA\n",
    "\n",
    "For droplet based single cell RNA-seq experiments, a certain amount of background mRNAs is present in the dilution that gets distributed into the droplets with cells and sequenced along with them. The net effect of this is to produce a background contamination that represents expression not from the cell contained within a droplet, but the solution that contained the cells.\n",
    "\n",
    "Droplet-based scRNA-seq generates counts of unique molecular identifiers (UMIs) for genes across multiple cells and aims to identify the number of molecules for each gene and each cell. It assumes that each droplet contains mRNA from single cells. Doublet, empty droplets and cell-free RNA can violate this assumption. Cell-free mRNA molecules represent background mRNA that is present in the dilution. These molecules get distributed along the droplets and are sequenced along with them. This contamination of cell-free mRNA in the input solution is typically called \"the soup\" which is created by cell lysis.\n",
    "\n",
    ":::{figure-md} ambient RNA\n",
    "\n",
    "<img src=\"https://www.sc-best-practices.org/_images/ambient_rna.jpeg\" alt=\"Ambient RNA Overview\" class=\"bg-primary mb-1\" width=\"800px\">\n",
    "\n",
    "In droplet-based sequencing technologies, droplets can incorporate ambient RNA or doublets (droplets with multiple cells captured). Contaminating ambient RNA is barcoded and counted together with the native mRNA from the cell leading to confounded counts. \n",
    "\n",
    ":::\n",
    "\n",
    "Cell-free mRNA molecules, also known as ambient RNA, can confound the number of observed counts and can be seen as background contamination. It is important to correct droplet-based scRNA-seq datasets for cell-free mRNA as it may distort the interpretation of the data in our downstream analysis. Generally, the soup differs for each input solution and depends on the expression pattern across individual cells in the dataset. Methods for removal of ambient mRNA like SoupX {cite}`qc:Young2020` and DecontX {cite}`decontX_yang_decontamination_2020` aim to estimate the composition of the soup and correct the count table with respect to the soup based expression.\n",
    "\n",
    "As a first step, SoupX calculates the profile of the soup. It estimates the ambient mRNA expression profile from empty droplets as given by the unfiltered Cellranger matrix. Next, SoupX estimates the cell specific contamination fraction. Lastly, it corrects the expression matrix according to the ambient mRNA expression profile and the estimated contamination.\n",
    "\n",
    "The output of SoupX is a modified counts matrix, which can be used for any downstream analysis tool. \n"
   ]
  },
  {
   "cell_type": "markdown",
   "id": "b1018bed-5698-4477-8ee6-305f92ef1bbe",
   "metadata": {},
   "source": [
    "We now load the required python and R packages needed for running SoupX. "
   ]
  },
  {
   "cell_type": "code",
   "execution_count": 18,
   "id": "d7070b30-49ee-434e-ae86-665bc6d65a58",
   "metadata": {
    "tags": []
   },
   "outputs": [],
   "source": [
    "import anndata2ri\n",
    "import logging\n",
    "\n",
    "import rpy2.rinterface_lib.callbacks as rcb\n",
    "import rpy2.robjects as ro\n",
    "\n",
    "rcb.logger.setLevel(logging.ERROR)\n",
    "ro.pandas2ri.activate()\n",
    "anndata2ri.activate()\n",
    "\n",
    "%load_ext rpy2.ipython"
   ]
  },
  {
   "cell_type": "code",
   "execution_count": null,
   "id": "eb431dcd-738c-44f4-ae58-82a52ba18142",
   "metadata": {},
   "outputs": [],
   "source": [
    "%%R\n",
    "library(SoupX)\n",
    "# The reticulate version contains an important fix (with the segfault issue when used with rpy2) the package version is equal or above 1.25\n",
    "packageVersion(\"reticulate\")"
   ]
  },
  {
   "cell_type": "markdown",
   "id": "82a84b5c-3c03-4ffc-9f3f-7912fbab02bf",
   "metadata": {},
   "source": [
    "SoupX can be run without clustering information, however as Young and Behjati{cite}`qc:Young2020` note that the results are better if a basic clustering is provided. SoupX can be used with the default clustering produced by cellranger or by manually defining clusters. We will showcase the latter in this notebook as the results from SoupX are not strongly sensitive to the clustering used. \n",
    "\n",
    "We now create a copy of our AnnData object, normalize it, reduce its dimensionality and compute default Leiden clusters on the processed copy. A subsequent chapter introduces clustering in more detail. For now we just need to know that Leiden clustering gives us partitions (communities) of cells in our dataset. We save the obtained clusters as `soupx_groups` and delete the copy of the AnnData object to save some memory in our notebook.  \n",
    "\n",
    "Firstly, we generate a copy of our AnnData object, normalize and log1p transform it. We use simply shifted logarithm normalization at this point. More information on different normalization techniques can be found in the normalization chapter. "
   ]
  },
  {
   "cell_type": "code",
   "execution_count": 20,
   "id": "ddc2ea89-c10c-4eae-9bf3-069e05d79621",
   "metadata": {},
   "outputs": [],
   "source": [
    "adata_pp = adata.copy()\n",
    "sc.pp.normalize_per_cell(adata_pp)\n",
    "sc.pp.log1p(adata_pp)"
   ]
  },
  {
   "cell_type": "markdown",
   "id": "6dce115c-204f-48c5-851b-ca1eefb59566",
   "metadata": {},
   "source": [
    "Next, we compute the principle components of the data to obtain a lower dimensional representation. This representation is then used to generate a neighbourhood graph of the data and run leiden clustering on the KNN-graph. We add the clusters as `soupx_groups` to `.obs` and save them as a vector. "
   ]
  },
  {
   "cell_type": "code",
   "execution_count": null,
   "id": "ac722343-9c32-47f8-9425-16103f81c653",
   "metadata": {},
   "outputs": [],
   "source": [
    "sc.pp.pca(adata_pp)\n",
    "sc.pp.neighbors(adata_pp)\n",
    "sc.tl.leiden(adata_pp, key_added=\"soupx_groups\")\n",
    "\n",
    "# Preprocess variables for SoupX\n",
    "soupx_groups = adata_pp.obs[\"soupx_groups\"]"
   ]
  },
  {
   "cell_type": "markdown",
   "id": "02fb2e03-324c-4a76-9c35-eb3f662613a1",
   "metadata": {},
   "source": [
    "We can now delete the copy of our AnnData object as we generated a vector of clusters which can be used in soupX."
   ]
  },
  {
   "cell_type": "code",
   "execution_count": 22,
   "id": "daf04e3b-f55b-48e9-bda9-070f1b98d86c",
   "metadata": {},
   "outputs": [],
   "source": [
    "del adata_pp"
   ]
  },
  {
   "cell_type": "markdown",
   "id": "4010a845-a52f-4b52-ae02-a5dd5c95401a",
   "metadata": {},
   "source": [
    "Next, we save the cell names, gene names and the data matrix of the filtered cellranger output. SoupX required a matrix of shape features x barcodes, so we have to transpose `.X`. "
   ]
  },
  {
   "cell_type": "code",
   "execution_count": 23,
   "id": "5ee0ec98-ebe8-46bc-9853-d52045bea1f2",
   "metadata": {},
   "outputs": [],
   "source": [
    "cells = adata.obs_names\n",
    "genes = adata.var_names\n",
    "data = adata.X.T"
   ]
  },
  {
   "cell_type": "markdown",
   "id": "a45273bb-071f-4389-a514-8fa08c9c44b9",
   "metadata": {},
   "source": [
    "SoupX additionally required the raw gene by cells matrix which is typically called `raw_feature_bc_matrix.h5` in the cellranger output. We load this similarly as before the `filtered_feature_bc_matrix.h5` with scanpy and run `.var_names_make_unique()` on the object and transpose the respective `.X`. "
   ]
  },
  {
   "cell_type": "code",
   "execution_count": null,
   "id": "b95e3f37-8555-405b-a24c-7dcfe3750b88",
   "metadata": {},
   "outputs": [],
   "source": [
    "adata_raw = sc.read_10x_h5(input_file)\n",
    "adata_raw.var_names_make_unique()\n",
    "data_tod = adata_raw.X.T"
   ]
  },
  {
   "cell_type": "code",
   "execution_count": 25,
   "id": "d5bf5ed7-aa77-4831-8fd2-c5ecbe817dda",
   "metadata": {},
   "outputs": [],
   "source": [
    "del adata_raw"
   ]
  },
  {
   "cell_type": "markdown",
   "id": "133d6f72-d2b7-45fc-8269-143355c46994",
   "metadata": {},
   "source": [
    "We have now everything in place to run SoupX. The inputs are the filtered cellranger matrix of shape barcodes x cells, the raw table of droplets from cellranger of shape `barcodes x droplets`, the gene and cell names and the clusters obtained by simple leiden clustering. The output will be the corrected count matrix. \n",
    "\n",
    "We first construct a so called `SoupChannel` from the table of droplets and the table of cells. Next, we add metadata to the SoupChannel object which can be any metadata in the form of a `data.frame`. We add here "
   ]
  },
  {
   "cell_type": "code",
   "execution_count": null,
   "id": "01b6f7a1-92c2-4d65-85cc-20f8c7e45679",
   "metadata": {},
   "outputs": [],
   "source": [
    "%%R -i data -i data_tod -i genes -i cells -i soupx_groups -o out -o mtd\n",
    "\n",
    "# specify row and column names of data\n",
    "rownames(data) = genes\n",
    "colnames(data) = cells\n",
    "# ensure correct sparse format for table of counts and table of droplets\n",
    "data <- as(data, \"sparseMatrix\")\n",
    "data_tod <- as(data_tod, \"sparseMatrix\")\n",
    "\n",
    "# Generate SoupChannel Object for SoupX \n",
    "sc = SoupChannel(data_tod, data, calcSoupProfile = FALSE)\n",
    "\n",
    "# Add extra meta data to the SoupChannel object\n",
    "soupProf = data.frame(row.names = rownames(data), est = rowSums(data)/sum(data), counts = rowSums(data))\n",
    "sc = setSoupProfile(sc, soupProf)\n",
    "# Set cluster information in SoupChannel\n",
    "sc = setClusters(sc, soupx_groups)\n",
    "\n",
    "# Estimate contamination fraction\n",
    "sc  = autoEstCont(sc, doPlot=T, tfidfMin = 0.8, soupQuantile = 0.7)\n",
    "# sc  = autoEstCont(sc, doPlot=FALSE)\n",
    "# Infer corrected table of counts and rount to integer\n",
    "out = adjustCounts(sc, roundToInt = TRUE)\n",
    "\n",
    "mtd = sc$metaData"
   ]
  },
  {
   "cell_type": "markdown",
   "id": "77fe8758-d33f-490d-8c02-2913a2f08bc3",
   "metadata": {},
   "source": [
    "SoupX successfully inferred corrected counts, which we can now store as an additional layer. In all following analysis steps, we would like to use the SoupX corrected count matrix, so we overwrite `.X` with the soupX corrected matrix. "
   ]
  },
  {
   "cell_type": "code",
   "execution_count": null,
   "id": "d7878d24-0765-467a-a133-e2f60a5d9ffe",
   "metadata": {},
   "outputs": [],
   "source": [
    "adata.layers[\"counts\"] = adata.X\n",
    "adata.layers[\"soupX_counts\"] = out.T\n",
    "# save contamination estimates\n",
    "adata.obs[\"soupx_contamination\"] = mtd.loc[:, 'rho']"
   ]
  },
  {
   "cell_type": "markdown",
   "id": "2a2dd00a-63d6-45ac-9edc-fbb44c2da26e",
   "metadata": {},
   "source": [
    "Next, we additionally filter out genes that are not detected in at least 20 cells as these are not informative."
   ]
  },
  {
   "cell_type": "code",
   "execution_count": null,
   "id": "36e73f6a-97b9-4d21-bc5c-33276d2e5af8",
   "metadata": {},
   "outputs": [],
   "source": [
    "print(f\"Total number of genes: {adata.n_vars}\")\n",
    "\n",
    "# Min 20 cells - filters out 0 count genes\n",
    "sc.pp.filter_genes(adata, min_cells=20)\n",
    "print(f\"Number of genes after cell filter: {adata.n_vars}\")"
   ]
  },
  {
   "cell_type": "markdown",
   "id": "5af0b0e0-233f-44b4-abd5-137e00053e89",
   "metadata": {},
   "source": [
    "(rna:doublet-detection)=\n",
    "## Doublet Detection\n",
    "\n",
    "Doublets are defined as two cells that are sequenced under the same cellular barcode, for example, if they were captured in the same droplet. That's why we used the term \"barcode\" instead of \"cell\" until now. A doublet is called homotypic if it is formed by the same cell type (but from different individuals) and heterotypic otherwise. Homotypic doublets are not necessarily identifiable from count matrices and are often considered innocuous as they can be identified with cell hashing or SNPs. Hence, their identification is not the main goal of the doublet detection methods. \n",
    "\n",
    "Doublets formed from different cell types or states are called heterotypic. Their identification is crucial as they are most likely misclassified and can lead to distorted downstream analysis steps. Hence, doublet detection and removal are typically initial preprocessing steps. Doublets can be either identified through their high number of reads and detected features, or with methods that create artificial doublets and compare these with the cells present in the dataset. Doublet detection methods are computationally efficient and there exist several software packages for this task. \n",
    "\n",
    "{cite}`xi_benchmarking_2021` benchmarked nine different doublet detection methods and assessed their performance with respect to computational efficiency and doublet detection accuracy. They additionally assessed scDblFinder in an addendum to their benchmark which achieved the highest doublet detection accuracy and a good computational efficiency and stability {cite}`Xi_2021_addendum`.\n",
    "\n",
    "In this tutorial, we will showcase the scDblFinder R package. scDblFinder randomly selects two droplets and creates artificial doublets from those by averaging their gene expression profiles. The doublet score is then defined as the fraction of artificial doublets in the k-nearest neighbor graph of each droplet in the principal component space.\n",
    "\n",
    ":::{figure-md} Doublet detection\n",
    "\n",
    "<img src=\"https://www.sc-best-practices.org/_images/doublet_detection.jpeg\" alt=\"Doublet detection overview\" class=\"bg-primary mb-1\" width=\"800px\">\n",
    "\n",
    "Doublets are droplets that contain more than one cell. Common doublet detection methods generate artificial doublets by randomly subsampling pairs of cells and averaging their gene expression profile to obtain doublet counts. These artificial doublets are projected together with the remaining calls into a lower dimensional principal component space. The doublet detection method computes a doublet score based on the number of artificial doublet neighbors in the k nearest neighbor graph.\n",
    "\n",
    ":::\n",
    "\n",
    "We first load some additional python and R packages."
   ]
  },
  {
   "cell_type": "code",
   "execution_count": 29,
   "id": "5e622d0e-83b2-4b3a-b0fa-cd93166af606",
   "metadata": {},
   "outputs": [],
   "source": [
    "%%R\n",
    "library(Seurat)\n",
    "library(scater)\n",
    "library(scDblFinder)\n",
    "library(BiocParallel)"
   ]
  },
  {
   "cell_type": "code",
   "execution_count": 30,
   "id": "0bf1455c-7add-4bc3-8503-6fb26a2aa29f",
   "metadata": {},
   "outputs": [],
   "source": [
    "data_mat = adata.X.T"
   ]
  },
  {
   "cell_type": "markdown",
   "id": "16ed4680-e019-400d-8c39-7e8fc7937f31",
   "metadata": {},
   "source": [
    "We can now launch the doublet detection by using data_mat as input to scDblFinder within a SingleCellExperiment. scDblFinder adds several columns to the colData of sce. Three of them might be interesting for the analysis:\n",
    "\n",
    "* `sce$scDblFinder.score`: the final doublet score (the higher the more likely that the cell is a doublet)\n",
    "\n",
    "* `sce$scDblFinder.ratio` : the ratio of artificial doublets in the cell's neighborhood\n",
    "\n",
    "* `sce$scDblFinder.class` : the classification (doublet or singlet)\n",
    "\n",
    "We will only output the class argument and store it in the AnnData object in `.obs` . The other arguments can be added to the AnnData object similarly."
   ]
  },
  {
   "cell_type": "code",
   "execution_count": 31,
   "id": "2f70728c-c43e-4b12-b6d5-b8bd441c5c64",
   "metadata": {},
   "outputs": [],
   "source": [
    "%%R -i data_mat -o doublet_score -o doublet_class\n",
    "\n",
    "set.seed(123)\n",
    "sce = scDblFinder(\n",
    "    SingleCellExperiment(\n",
    "        list(counts=data_mat),\n",
    "    ) \n",
    ")\n",
    "doublet_score = sce$scDblFinder.score\n",
    "doublet_class = sce$scDblFinder.class"
   ]
  },
  {
   "cell_type": "markdown",
   "id": "cd316cac-2bcc-4102-9382-6b2c149c8559",
   "metadata": {},
   "source": [
    "scDblFinder outputs a class with the classification `Singlet` (1) and `Doublet` (2). We add this to our AnnData object in `.obs`."
   ]
  },
  {
   "cell_type": "code",
   "execution_count": null,
   "id": "f7fc170d",
   "metadata": {},
   "outputs": [],
   "source": [
    "adata.obs[\"scDblFinder_score\"] = doublet_score\n",
    "adata.obs[\"scDblFinder_class\"] = doublet_class\n",
    "adata.obs.scDblFinder_class.value_counts()"
   ]
  },
  {
   "cell_type": "markdown",
   "id": "448e1188-12e3-4870-a4c2-5c3e8eb618b2",
   "metadata": {},
   "source": [
    "We advise to leave identified doublets in the dataset for now and inspect doublets during visualization.\n",
    "\n",
    "During downstream clustering it might be useful to reassess quality control and the chosen parameters to potentially filter out more or less cells. We can now save the dataset and continue with the normalization chapter."
   ]
  },
  {
   "cell_type": "code",
   "execution_count": 42,
   "id": "d531bb6c-d27a-4df0-b583-3ee9bb3020b6",
   "metadata": {},
   "outputs": [],
   "source": [
    "import os\n",
    "os.makedirs(output_dir, exist_ok=True)\n",
    "adata.write(output_dir + 'adata.h5ad')"
   ]
  },
  {
   "cell_type": "markdown",
   "id": "13a0f670",
   "metadata": {},
   "source": [
    "## Key Takeaways"
   ]
  },
  {
   "cell_type": "markdown",
   "id": "f20b3eaa",
   "metadata": {},
   "source": [
    "1. Filtering of poor-quality cells should be based on median absolute deviations with lenient cutoffs to avoid bias against smaller subpopulations.\n",
    "2. Feature-based filtering does not show benefits for downstream tasks. \n",
    "3. Doublets can be efficiently detected with tools like scDblFinder. \n",
    "4. Doublet detection methods should not be run on aggregated scRNA-seq data representing multiple batches. "
   ]
  },
  {
   "cell_type": "markdown",
   "id": "8a5cf014",
   "metadata": {},
   "source": [
    "## References"
   ]
  },
  {
   "cell_type": "markdown",
   "id": "28855f58-cda0-4280-b8e9-23bfbfe4be72",
   "metadata": {},
   "source": [
    "```{bibliography}\n",
    ":filter: docname in docnames\n",
    ":labelprefix: qc\n",
    "```"
   ]
  },
  {
   "cell_type": "markdown",
   "id": "e5e24047",
   "metadata": {},
   "source": [
    "## Contributors\n",
    "\n",
    "We gratefully acknowledge the contributions of:\n",
    "\n",
    "### Authors\n",
    "\n",
    "* Anna Schaar\n",
    "\n",
    "### Reviewers\n",
    "\n",
    "* Lukas Heumos\n",
    "* Lukas Zappia\n"
   ]
  },
  {
   "cell_type": "code",
   "execution_count": null,
   "id": "2da4d10c",
   "metadata": {},
   "outputs": [],
   "source": [
    "# are the counts still integers? (They should be)\n",
    "print(adata.X[0:5, 0:5].todense())\n",
    "print(adata.layers['counts'][0:5, 0:5].todense())\n",
    "adata.raw[0:5, 0:5]"
   ]
  }
 ],
 "metadata": {
  "kernelspec": {
   "display_name": "preprocessing",
   "language": "python",
   "name": "python3"
  },
  "language_info": {
   "codemirror_mode": {
    "name": "ipython",
    "version": 3
   },
   "file_extension": ".py",
   "mimetype": "text/x-python",
   "name": "python",
   "nbconvert_exporter": "python",
   "pygments_lexer": "ipython3",
   "version": "3.9.15"
  }
 },
 "nbformat": 4,
 "nbformat_minor": 5
}
